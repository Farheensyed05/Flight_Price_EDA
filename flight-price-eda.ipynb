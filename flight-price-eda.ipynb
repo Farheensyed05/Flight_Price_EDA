{
 "cells": [
  {
   "cell_type": "markdown",
   "id": "78200735",
   "metadata": {
    "papermill": {
     "duration": 0.012085,
     "end_time": "2022-07-06T11:14:18.557598",
     "exception": false,
     "start_time": "2022-07-06T11:14:18.545513",
     "status": "completed"
    },
    "tags": []
   },
   "source": [
    "## Flight Price Prediction (EDA + Feature Engineering)"
   ]
  },
  {
   "cell_type": "code",
   "execution_count": 1,
   "id": "5f4da499",
   "metadata": {
    "execution": {
     "iopub.execute_input": "2022-07-06T11:14:18.581007Z",
     "iopub.status.busy": "2022-07-06T11:14:18.580586Z",
     "iopub.status.idle": "2022-07-06T11:14:19.596051Z",
     "shell.execute_reply": "2022-07-06T11:14:19.594971Z"
    },
    "papermill": {
     "duration": 1.030671,
     "end_time": "2022-07-06T11:14:19.599087",
     "exception": false,
     "start_time": "2022-07-06T11:14:18.568416",
     "status": "completed"
    },
    "tags": []
   },
   "outputs": [],
   "source": [
    "#importing basic libraries\n",
    "import pandas as pd#It used for cleaning the data\n",
    "import numpy as np#It is used for mathematical purpose\n",
    "import matplotlib.pyplot as plt#It is used for Data Visualization\n",
    "import seaborn as sns#It is used for Data Visualization\n",
    "%matplotlib inline"
   ]
  },
  {
   "cell_type": "code",
   "execution_count": 2,
   "id": "e3f16a81",
   "metadata": {
    "execution": {
     "iopub.execute_input": "2022-07-06T11:14:19.624040Z",
     "iopub.status.busy": "2022-07-06T11:14:19.623644Z",
     "iopub.status.idle": "2022-07-06T11:14:30.950511Z",
     "shell.execute_reply": "2022-07-06T11:14:30.948640Z"
    },
    "papermill": {
     "duration": 11.344578,
     "end_time": "2022-07-06T11:14:30.954542",
     "exception": false,
     "start_time": "2022-07-06T11:14:19.609964",
     "status": "completed"
    },
    "tags": []
   },
   "outputs": [
    {
     "name": "stdout",
     "output_type": "stream",
     "text": [
      "Collecting openpyxl\r\n",
      "  Downloading openpyxl-3.0.10-py2.py3-none-any.whl (242 kB)\r\n",
      "\u001b[2K     \u001b[90m━━━━━━━━━━━━━━━━━━━━━━━━━━━━━━━━━━━━━━━\u001b[0m \u001b[32m242.1/242.1 kB\u001b[0m \u001b[31m4.9 MB/s\u001b[0m eta \u001b[36m0:00:00\u001b[0m\r\n",
      "\u001b[?25hCollecting et-xmlfile\r\n",
      "  Downloading et_xmlfile-1.1.0-py3-none-any.whl (4.7 kB)\r\n",
      "Installing collected packages: et-xmlfile, openpyxl\r\n",
      "Successfully installed et-xmlfile-1.1.0 openpyxl-3.0.10\r\n",
      "\u001b[33mWARNING: Running pip as the 'root' user can result in broken permissions and conflicting behaviour with the system package manager. It is recommended to use a virtual environment instead: https://pip.pypa.io/warnings/venv\u001b[0m\u001b[33m\r\n",
      "\u001b[0mNote: you may need to restart the kernel to use updated packages.\n"
     ]
    }
   ],
   "source": [
    "pip install openpyxl"
   ]
  },
  {
   "cell_type": "code",
   "execution_count": 3,
   "id": "7f750598",
   "metadata": {
    "execution": {
     "iopub.execute_input": "2022-07-06T11:14:30.980902Z",
     "iopub.status.busy": "2022-07-06T11:14:30.980493Z",
     "iopub.status.idle": "2022-07-06T11:14:32.734994Z",
     "shell.execute_reply": "2022-07-06T11:14:32.733781Z"
    },
    "papermill": {
     "duration": 1.770682,
     "end_time": "2022-07-06T11:14:32.737448",
     "exception": false,
     "start_time": "2022-07-06T11:14:30.966766",
     "status": "completed"
    },
    "tags": []
   },
   "outputs": [
    {
     "data": {
      "text/html": [
       "<div>\n",
       "<style scoped>\n",
       "    .dataframe tbody tr th:only-of-type {\n",
       "        vertical-align: middle;\n",
       "    }\n",
       "\n",
       "    .dataframe tbody tr th {\n",
       "        vertical-align: top;\n",
       "    }\n",
       "\n",
       "    .dataframe thead th {\n",
       "        text-align: right;\n",
       "    }\n",
       "</style>\n",
       "<table border=\"1\" class=\"dataframe\">\n",
       "  <thead>\n",
       "    <tr style=\"text-align: right;\">\n",
       "      <th></th>\n",
       "      <th>Airline</th>\n",
       "      <th>Date_of_Journey</th>\n",
       "      <th>Source</th>\n",
       "      <th>Destination</th>\n",
       "      <th>Route</th>\n",
       "      <th>Dep_Time</th>\n",
       "      <th>Arrival_Time</th>\n",
       "      <th>Duration</th>\n",
       "      <th>Total_Stops</th>\n",
       "      <th>Additional_Info</th>\n",
       "      <th>Price</th>\n",
       "    </tr>\n",
       "  </thead>\n",
       "  <tbody>\n",
       "    <tr>\n",
       "      <th>0</th>\n",
       "      <td>IndiGo</td>\n",
       "      <td>24/03/2019</td>\n",
       "      <td>Banglore</td>\n",
       "      <td>New Delhi</td>\n",
       "      <td>BLR → DEL</td>\n",
       "      <td>22:20</td>\n",
       "      <td>01:10 22 Mar</td>\n",
       "      <td>2h 50m</td>\n",
       "      <td>non-stop</td>\n",
       "      <td>No info</td>\n",
       "      <td>3897</td>\n",
       "    </tr>\n",
       "    <tr>\n",
       "      <th>1</th>\n",
       "      <td>Air India</td>\n",
       "      <td>1/05/2019</td>\n",
       "      <td>Kolkata</td>\n",
       "      <td>Banglore</td>\n",
       "      <td>CCU → IXR → BBI → BLR</td>\n",
       "      <td>05:50</td>\n",
       "      <td>13:15</td>\n",
       "      <td>7h 25m</td>\n",
       "      <td>2 stops</td>\n",
       "      <td>No info</td>\n",
       "      <td>7662</td>\n",
       "    </tr>\n",
       "    <tr>\n",
       "      <th>2</th>\n",
       "      <td>Jet Airways</td>\n",
       "      <td>9/06/2019</td>\n",
       "      <td>Delhi</td>\n",
       "      <td>Cochin</td>\n",
       "      <td>DEL → LKO → BOM → COK</td>\n",
       "      <td>09:25</td>\n",
       "      <td>04:25 10 Jun</td>\n",
       "      <td>19h</td>\n",
       "      <td>2 stops</td>\n",
       "      <td>No info</td>\n",
       "      <td>13882</td>\n",
       "    </tr>\n",
       "    <tr>\n",
       "      <th>3</th>\n",
       "      <td>IndiGo</td>\n",
       "      <td>12/05/2019</td>\n",
       "      <td>Kolkata</td>\n",
       "      <td>Banglore</td>\n",
       "      <td>CCU → NAG → BLR</td>\n",
       "      <td>18:05</td>\n",
       "      <td>23:30</td>\n",
       "      <td>5h 25m</td>\n",
       "      <td>1 stop</td>\n",
       "      <td>No info</td>\n",
       "      <td>6218</td>\n",
       "    </tr>\n",
       "    <tr>\n",
       "      <th>4</th>\n",
       "      <td>IndiGo</td>\n",
       "      <td>01/03/2019</td>\n",
       "      <td>Banglore</td>\n",
       "      <td>New Delhi</td>\n",
       "      <td>BLR → NAG → DEL</td>\n",
       "      <td>16:50</td>\n",
       "      <td>21:35</td>\n",
       "      <td>4h 45m</td>\n",
       "      <td>1 stop</td>\n",
       "      <td>No info</td>\n",
       "      <td>13302</td>\n",
       "    </tr>\n",
       "  </tbody>\n",
       "</table>\n",
       "</div>"
      ],
      "text/plain": [
       "       Airline Date_of_Journey    Source Destination                  Route  \\\n",
       "0       IndiGo      24/03/2019  Banglore   New Delhi              BLR → DEL   \n",
       "1    Air India       1/05/2019   Kolkata    Banglore  CCU → IXR → BBI → BLR   \n",
       "2  Jet Airways       9/06/2019     Delhi      Cochin  DEL → LKO → BOM → COK   \n",
       "3       IndiGo      12/05/2019   Kolkata    Banglore        CCU → NAG → BLR   \n",
       "4       IndiGo      01/03/2019  Banglore   New Delhi        BLR → NAG → DEL   \n",
       "\n",
       "  Dep_Time  Arrival_Time Duration Total_Stops Additional_Info  Price  \n",
       "0    22:20  01:10 22 Mar   2h 50m    non-stop         No info   3897  \n",
       "1    05:50         13:15   7h 25m     2 stops         No info   7662  \n",
       "2    09:25  04:25 10 Jun      19h     2 stops         No info  13882  \n",
       "3    18:05         23:30   5h 25m      1 stop         No info   6218  \n",
       "4    16:50         21:35   4h 45m      1 stop         No info  13302  "
      ]
     },
     "execution_count": 3,
     "metadata": {},
     "output_type": "execute_result"
    }
   ],
   "source": [
    "#Loading the train_data\n",
    "train_df = pd.read_excel('../input/flight-price/Data_Train.xlsx')\n",
    "train_df.head()#displays the first 5 rows of the data"
   ]
  },
  {
   "cell_type": "code",
   "execution_count": 4,
   "id": "10e6ec82",
   "metadata": {
    "execution": {
     "iopub.execute_input": "2022-07-06T11:14:32.763693Z",
     "iopub.status.busy": "2022-07-06T11:14:32.762641Z",
     "iopub.status.idle": "2022-07-06T11:14:33.107119Z",
     "shell.execute_reply": "2022-07-06T11:14:33.106032Z"
    },
    "papermill": {
     "duration": 0.360324,
     "end_time": "2022-07-06T11:14:33.109486",
     "exception": false,
     "start_time": "2022-07-06T11:14:32.749162",
     "status": "completed"
    },
    "tags": []
   },
   "outputs": [
    {
     "data": {
      "text/html": [
       "<div>\n",
       "<style scoped>\n",
       "    .dataframe tbody tr th:only-of-type {\n",
       "        vertical-align: middle;\n",
       "    }\n",
       "\n",
       "    .dataframe tbody tr th {\n",
       "        vertical-align: top;\n",
       "    }\n",
       "\n",
       "    .dataframe thead th {\n",
       "        text-align: right;\n",
       "    }\n",
       "</style>\n",
       "<table border=\"1\" class=\"dataframe\">\n",
       "  <thead>\n",
       "    <tr style=\"text-align: right;\">\n",
       "      <th></th>\n",
       "      <th>Airline</th>\n",
       "      <th>Date_of_Journey</th>\n",
       "      <th>Source</th>\n",
       "      <th>Destination</th>\n",
       "      <th>Route</th>\n",
       "      <th>Dep_Time</th>\n",
       "      <th>Arrival_Time</th>\n",
       "      <th>Duration</th>\n",
       "      <th>Total_Stops</th>\n",
       "      <th>Additional_Info</th>\n",
       "    </tr>\n",
       "  </thead>\n",
       "  <tbody>\n",
       "    <tr>\n",
       "      <th>0</th>\n",
       "      <td>Jet Airways</td>\n",
       "      <td>6/06/2019</td>\n",
       "      <td>Delhi</td>\n",
       "      <td>Cochin</td>\n",
       "      <td>DEL → BOM → COK</td>\n",
       "      <td>17:30</td>\n",
       "      <td>04:25 07 Jun</td>\n",
       "      <td>10h 55m</td>\n",
       "      <td>1 stop</td>\n",
       "      <td>No info</td>\n",
       "    </tr>\n",
       "    <tr>\n",
       "      <th>1</th>\n",
       "      <td>IndiGo</td>\n",
       "      <td>12/05/2019</td>\n",
       "      <td>Kolkata</td>\n",
       "      <td>Banglore</td>\n",
       "      <td>CCU → MAA → BLR</td>\n",
       "      <td>06:20</td>\n",
       "      <td>10:20</td>\n",
       "      <td>4h</td>\n",
       "      <td>1 stop</td>\n",
       "      <td>No info</td>\n",
       "    </tr>\n",
       "    <tr>\n",
       "      <th>2</th>\n",
       "      <td>Jet Airways</td>\n",
       "      <td>21/05/2019</td>\n",
       "      <td>Delhi</td>\n",
       "      <td>Cochin</td>\n",
       "      <td>DEL → BOM → COK</td>\n",
       "      <td>19:15</td>\n",
       "      <td>19:00 22 May</td>\n",
       "      <td>23h 45m</td>\n",
       "      <td>1 stop</td>\n",
       "      <td>In-flight meal not included</td>\n",
       "    </tr>\n",
       "    <tr>\n",
       "      <th>3</th>\n",
       "      <td>Multiple carriers</td>\n",
       "      <td>21/05/2019</td>\n",
       "      <td>Delhi</td>\n",
       "      <td>Cochin</td>\n",
       "      <td>DEL → BOM → COK</td>\n",
       "      <td>08:00</td>\n",
       "      <td>21:00</td>\n",
       "      <td>13h</td>\n",
       "      <td>1 stop</td>\n",
       "      <td>No info</td>\n",
       "    </tr>\n",
       "    <tr>\n",
       "      <th>4</th>\n",
       "      <td>Air Asia</td>\n",
       "      <td>24/06/2019</td>\n",
       "      <td>Banglore</td>\n",
       "      <td>Delhi</td>\n",
       "      <td>BLR → DEL</td>\n",
       "      <td>23:55</td>\n",
       "      <td>02:45 25 Jun</td>\n",
       "      <td>2h 50m</td>\n",
       "      <td>non-stop</td>\n",
       "      <td>No info</td>\n",
       "    </tr>\n",
       "  </tbody>\n",
       "</table>\n",
       "</div>"
      ],
      "text/plain": [
       "             Airline Date_of_Journey    Source Destination            Route  \\\n",
       "0        Jet Airways       6/06/2019     Delhi      Cochin  DEL → BOM → COK   \n",
       "1             IndiGo      12/05/2019   Kolkata    Banglore  CCU → MAA → BLR   \n",
       "2        Jet Airways      21/05/2019     Delhi      Cochin  DEL → BOM → COK   \n",
       "3  Multiple carriers      21/05/2019     Delhi      Cochin  DEL → BOM → COK   \n",
       "4           Air Asia      24/06/2019  Banglore       Delhi        BLR → DEL   \n",
       "\n",
       "  Dep_Time  Arrival_Time Duration Total_Stops              Additional_Info  \n",
       "0    17:30  04:25 07 Jun  10h 55m      1 stop                      No info  \n",
       "1    06:20         10:20       4h      1 stop                      No info  \n",
       "2    19:15  19:00 22 May  23h 45m      1 stop  In-flight meal not included  \n",
       "3    08:00         21:00      13h      1 stop                      No info  \n",
       "4    23:55  02:45 25 Jun   2h 50m    non-stop                      No info  "
      ]
     },
     "execution_count": 4,
     "metadata": {},
     "output_type": "execute_result"
    }
   ],
   "source": [
    "#Loading the test_data\n",
    "test_df = pd.read_excel('../input/flight-price/Test_set.xlsx')\n",
    "test_df.head()#It shows the first 5 rows of the data "
   ]
  },
  {
   "cell_type": "code",
   "execution_count": 5,
   "id": "15ddf4b9",
   "metadata": {
    "execution": {
     "iopub.execute_input": "2022-07-06T11:14:33.134985Z",
     "iopub.status.busy": "2022-07-06T11:14:33.134017Z",
     "iopub.status.idle": "2022-07-06T11:14:33.157424Z",
     "shell.execute_reply": "2022-07-06T11:14:33.156341Z"
    },
    "papermill": {
     "duration": 0.038654,
     "end_time": "2022-07-06T11:14:33.159795",
     "exception": false,
     "start_time": "2022-07-06T11:14:33.121141",
     "status": "completed"
    },
    "tags": []
   },
   "outputs": [
    {
     "data": {
      "text/html": [
       "<div>\n",
       "<style scoped>\n",
       "    .dataframe tbody tr th:only-of-type {\n",
       "        vertical-align: middle;\n",
       "    }\n",
       "\n",
       "    .dataframe tbody tr th {\n",
       "        vertical-align: top;\n",
       "    }\n",
       "\n",
       "    .dataframe thead th {\n",
       "        text-align: right;\n",
       "    }\n",
       "</style>\n",
       "<table border=\"1\" class=\"dataframe\">\n",
       "  <thead>\n",
       "    <tr style=\"text-align: right;\">\n",
       "      <th></th>\n",
       "      <th>Airline</th>\n",
       "      <th>Date_of_Journey</th>\n",
       "      <th>Source</th>\n",
       "      <th>Destination</th>\n",
       "      <th>Route</th>\n",
       "      <th>Dep_Time</th>\n",
       "      <th>Arrival_Time</th>\n",
       "      <th>Duration</th>\n",
       "      <th>Total_Stops</th>\n",
       "      <th>Additional_Info</th>\n",
       "      <th>Price</th>\n",
       "    </tr>\n",
       "  </thead>\n",
       "  <tbody>\n",
       "    <tr>\n",
       "      <th>0</th>\n",
       "      <td>IndiGo</td>\n",
       "      <td>24/03/2019</td>\n",
       "      <td>Banglore</td>\n",
       "      <td>New Delhi</td>\n",
       "      <td>BLR → DEL</td>\n",
       "      <td>22:20</td>\n",
       "      <td>01:10 22 Mar</td>\n",
       "      <td>2h 50m</td>\n",
       "      <td>non-stop</td>\n",
       "      <td>No info</td>\n",
       "      <td>3897.0</td>\n",
       "    </tr>\n",
       "    <tr>\n",
       "      <th>1</th>\n",
       "      <td>Air India</td>\n",
       "      <td>1/05/2019</td>\n",
       "      <td>Kolkata</td>\n",
       "      <td>Banglore</td>\n",
       "      <td>CCU → IXR → BBI → BLR</td>\n",
       "      <td>05:50</td>\n",
       "      <td>13:15</td>\n",
       "      <td>7h 25m</td>\n",
       "      <td>2 stops</td>\n",
       "      <td>No info</td>\n",
       "      <td>7662.0</td>\n",
       "    </tr>\n",
       "    <tr>\n",
       "      <th>2</th>\n",
       "      <td>Jet Airways</td>\n",
       "      <td>9/06/2019</td>\n",
       "      <td>Delhi</td>\n",
       "      <td>Cochin</td>\n",
       "      <td>DEL → LKO → BOM → COK</td>\n",
       "      <td>09:25</td>\n",
       "      <td>04:25 10 Jun</td>\n",
       "      <td>19h</td>\n",
       "      <td>2 stops</td>\n",
       "      <td>No info</td>\n",
       "      <td>13882.0</td>\n",
       "    </tr>\n",
       "    <tr>\n",
       "      <th>3</th>\n",
       "      <td>IndiGo</td>\n",
       "      <td>12/05/2019</td>\n",
       "      <td>Kolkata</td>\n",
       "      <td>Banglore</td>\n",
       "      <td>CCU → NAG → BLR</td>\n",
       "      <td>18:05</td>\n",
       "      <td>23:30</td>\n",
       "      <td>5h 25m</td>\n",
       "      <td>1 stop</td>\n",
       "      <td>No info</td>\n",
       "      <td>6218.0</td>\n",
       "    </tr>\n",
       "    <tr>\n",
       "      <th>4</th>\n",
       "      <td>IndiGo</td>\n",
       "      <td>01/03/2019</td>\n",
       "      <td>Banglore</td>\n",
       "      <td>New Delhi</td>\n",
       "      <td>BLR → NAG → DEL</td>\n",
       "      <td>16:50</td>\n",
       "      <td>21:35</td>\n",
       "      <td>4h 45m</td>\n",
       "      <td>1 stop</td>\n",
       "      <td>No info</td>\n",
       "      <td>13302.0</td>\n",
       "    </tr>\n",
       "  </tbody>\n",
       "</table>\n",
       "</div>"
      ],
      "text/plain": [
       "       Airline Date_of_Journey    Source Destination                  Route  \\\n",
       "0       IndiGo      24/03/2019  Banglore   New Delhi              BLR → DEL   \n",
       "1    Air India       1/05/2019   Kolkata    Banglore  CCU → IXR → BBI → BLR   \n",
       "2  Jet Airways       9/06/2019     Delhi      Cochin  DEL → LKO → BOM → COK   \n",
       "3       IndiGo      12/05/2019   Kolkata    Banglore        CCU → NAG → BLR   \n",
       "4       IndiGo      01/03/2019  Banglore   New Delhi        BLR → NAG → DEL   \n",
       "\n",
       "  Dep_Time  Arrival_Time Duration Total_Stops Additional_Info    Price  \n",
       "0    22:20  01:10 22 Mar   2h 50m    non-stop         No info   3897.0  \n",
       "1    05:50         13:15   7h 25m     2 stops         No info   7662.0  \n",
       "2    09:25  04:25 10 Jun      19h     2 stops         No info  13882.0  \n",
       "3    18:05         23:30   5h 25m      1 stop         No info   6218.0  \n",
       "4    16:50         21:35   4h 45m      1 stop         No info  13302.0  "
      ]
     },
     "execution_count": 5,
     "metadata": {},
     "output_type": "execute_result"
    }
   ],
   "source": [
    "#appending the two data sets unsing append method\n",
    "final_df = train_df.append(test_df)\n",
    "final_df.head()#It shows the first  rows of the data"
   ]
  },
  {
   "cell_type": "code",
   "execution_count": 6,
   "id": "b92cea0d",
   "metadata": {
    "execution": {
     "iopub.execute_input": "2022-07-06T11:14:33.184978Z",
     "iopub.status.busy": "2022-07-06T11:14:33.184621Z",
     "iopub.status.idle": "2022-07-06T11:14:33.199574Z",
     "shell.execute_reply": "2022-07-06T11:14:33.198474Z"
    },
    "papermill": {
     "duration": 0.030244,
     "end_time": "2022-07-06T11:14:33.201852",
     "exception": false,
     "start_time": "2022-07-06T11:14:33.171608",
     "status": "completed"
    },
    "tags": []
   },
   "outputs": [
    {
     "data": {
      "text/html": [
       "<div>\n",
       "<style scoped>\n",
       "    .dataframe tbody tr th:only-of-type {\n",
       "        vertical-align: middle;\n",
       "    }\n",
       "\n",
       "    .dataframe tbody tr th {\n",
       "        vertical-align: top;\n",
       "    }\n",
       "\n",
       "    .dataframe thead th {\n",
       "        text-align: right;\n",
       "    }\n",
       "</style>\n",
       "<table border=\"1\" class=\"dataframe\">\n",
       "  <thead>\n",
       "    <tr style=\"text-align: right;\">\n",
       "      <th></th>\n",
       "      <th>Airline</th>\n",
       "      <th>Date_of_Journey</th>\n",
       "      <th>Source</th>\n",
       "      <th>Destination</th>\n",
       "      <th>Route</th>\n",
       "      <th>Dep_Time</th>\n",
       "      <th>Arrival_Time</th>\n",
       "      <th>Duration</th>\n",
       "      <th>Total_Stops</th>\n",
       "      <th>Additional_Info</th>\n",
       "      <th>Price</th>\n",
       "    </tr>\n",
       "  </thead>\n",
       "  <tbody>\n",
       "    <tr>\n",
       "      <th>2666</th>\n",
       "      <td>Air India</td>\n",
       "      <td>6/06/2019</td>\n",
       "      <td>Kolkata</td>\n",
       "      <td>Banglore</td>\n",
       "      <td>CCU → DEL → BLR</td>\n",
       "      <td>20:30</td>\n",
       "      <td>20:25 07 Jun</td>\n",
       "      <td>23h 55m</td>\n",
       "      <td>1 stop</td>\n",
       "      <td>No info</td>\n",
       "      <td>NaN</td>\n",
       "    </tr>\n",
       "    <tr>\n",
       "      <th>2667</th>\n",
       "      <td>IndiGo</td>\n",
       "      <td>27/03/2019</td>\n",
       "      <td>Kolkata</td>\n",
       "      <td>Banglore</td>\n",
       "      <td>CCU → BLR</td>\n",
       "      <td>14:20</td>\n",
       "      <td>16:55</td>\n",
       "      <td>2h 35m</td>\n",
       "      <td>non-stop</td>\n",
       "      <td>No info</td>\n",
       "      <td>NaN</td>\n",
       "    </tr>\n",
       "    <tr>\n",
       "      <th>2668</th>\n",
       "      <td>Jet Airways</td>\n",
       "      <td>6/03/2019</td>\n",
       "      <td>Delhi</td>\n",
       "      <td>Cochin</td>\n",
       "      <td>DEL → BOM → COK</td>\n",
       "      <td>21:50</td>\n",
       "      <td>04:25 07 Mar</td>\n",
       "      <td>6h 35m</td>\n",
       "      <td>1 stop</td>\n",
       "      <td>No info</td>\n",
       "      <td>NaN</td>\n",
       "    </tr>\n",
       "    <tr>\n",
       "      <th>2669</th>\n",
       "      <td>Air India</td>\n",
       "      <td>6/03/2019</td>\n",
       "      <td>Delhi</td>\n",
       "      <td>Cochin</td>\n",
       "      <td>DEL → BOM → COK</td>\n",
       "      <td>04:00</td>\n",
       "      <td>19:15</td>\n",
       "      <td>15h 15m</td>\n",
       "      <td>1 stop</td>\n",
       "      <td>No info</td>\n",
       "      <td>NaN</td>\n",
       "    </tr>\n",
       "    <tr>\n",
       "      <th>2670</th>\n",
       "      <td>Multiple carriers</td>\n",
       "      <td>15/06/2019</td>\n",
       "      <td>Delhi</td>\n",
       "      <td>Cochin</td>\n",
       "      <td>DEL → BOM → COK</td>\n",
       "      <td>04:55</td>\n",
       "      <td>19:15</td>\n",
       "      <td>14h 20m</td>\n",
       "      <td>1 stop</td>\n",
       "      <td>No info</td>\n",
       "      <td>NaN</td>\n",
       "    </tr>\n",
       "  </tbody>\n",
       "</table>\n",
       "</div>"
      ],
      "text/plain": [
       "                Airline Date_of_Journey   Source Destination            Route  \\\n",
       "2666          Air India       6/06/2019  Kolkata    Banglore  CCU → DEL → BLR   \n",
       "2667             IndiGo      27/03/2019  Kolkata    Banglore        CCU → BLR   \n",
       "2668        Jet Airways       6/03/2019    Delhi      Cochin  DEL → BOM → COK   \n",
       "2669          Air India       6/03/2019    Delhi      Cochin  DEL → BOM → COK   \n",
       "2670  Multiple carriers      15/06/2019    Delhi      Cochin  DEL → BOM → COK   \n",
       "\n",
       "     Dep_Time  Arrival_Time Duration Total_Stops Additional_Info  Price  \n",
       "2666    20:30  20:25 07 Jun  23h 55m      1 stop         No info    NaN  \n",
       "2667    14:20         16:55   2h 35m    non-stop         No info    NaN  \n",
       "2668    21:50  04:25 07 Mar   6h 35m      1 stop         No info    NaN  \n",
       "2669    04:00         19:15  15h 15m      1 stop         No info    NaN  \n",
       "2670    04:55         19:15  14h 20m      1 stop         No info    NaN  "
      ]
     },
     "execution_count": 6,
     "metadata": {},
     "output_type": "execute_result"
    }
   ],
   "source": [
    "final_df.tail()#It shows the bottom 5 rows of the data ,as we can see that there are Nan Values in the price column"
   ]
  },
  {
   "cell_type": "code",
   "execution_count": 7,
   "id": "9bddec7e",
   "metadata": {
    "execution": {
     "iopub.execute_input": "2022-07-06T11:14:33.227957Z",
     "iopub.status.busy": "2022-07-06T11:14:33.227579Z",
     "iopub.status.idle": "2022-07-06T11:14:33.255322Z",
     "shell.execute_reply": "2022-07-06T11:14:33.253924Z"
    },
    "papermill": {
     "duration": 0.043602,
     "end_time": "2022-07-06T11:14:33.257716",
     "exception": false,
     "start_time": "2022-07-06T11:14:33.214114",
     "status": "completed"
    },
    "tags": []
   },
   "outputs": [
    {
     "name": "stdout",
     "output_type": "stream",
     "text": [
      "<class 'pandas.core.frame.DataFrame'>\n",
      "Int64Index: 13354 entries, 0 to 2670\n",
      "Data columns (total 11 columns):\n",
      " #   Column           Non-Null Count  Dtype  \n",
      "---  ------           --------------  -----  \n",
      " 0   Airline          13354 non-null  object \n",
      " 1   Date_of_Journey  13354 non-null  object \n",
      " 2   Source           13354 non-null  object \n",
      " 3   Destination      13354 non-null  object \n",
      " 4   Route            13353 non-null  object \n",
      " 5   Dep_Time         13354 non-null  object \n",
      " 6   Arrival_Time     13354 non-null  object \n",
      " 7   Duration         13354 non-null  object \n",
      " 8   Total_Stops      13353 non-null  object \n",
      " 9   Additional_Info  13354 non-null  object \n",
      " 10  Price            10683 non-null  float64\n",
      "dtypes: float64(1), object(10)\n",
      "memory usage: 1.2+ MB\n"
     ]
    }
   ],
   "source": [
    "final_df.info()#It shows the information of all data set columns with their data types"
   ]
  },
  {
   "cell_type": "code",
   "execution_count": 8,
   "id": "f49cf46a",
   "metadata": {
    "execution": {
     "iopub.execute_input": "2022-07-06T11:14:33.283937Z",
     "iopub.status.busy": "2022-07-06T11:14:33.283569Z",
     "iopub.status.idle": "2022-07-06T11:14:33.289863Z",
     "shell.execute_reply": "2022-07-06T11:14:33.288770Z"
    },
    "papermill": {
     "duration": 0.021871,
     "end_time": "2022-07-06T11:14:33.291973",
     "exception": false,
     "start_time": "2022-07-06T11:14:33.270102",
     "status": "completed"
    },
    "tags": []
   },
   "outputs": [
    {
     "data": {
      "text/plain": [
       "(13354, 11)"
      ]
     },
     "execution_count": 8,
     "metadata": {},
     "output_type": "execute_result"
    }
   ],
   "source": [
    "final_df.shape#It shows the rows and columns of the data"
   ]
  },
  {
   "cell_type": "code",
   "execution_count": 9,
   "id": "e790fe93",
   "metadata": {
    "execution": {
     "iopub.execute_input": "2022-07-06T11:14:33.317970Z",
     "iopub.status.busy": "2022-07-06T11:14:33.317612Z",
     "iopub.status.idle": "2022-07-06T11:14:33.324162Z",
     "shell.execute_reply": "2022-07-06T11:14:33.323062Z"
    },
    "papermill": {
     "duration": 0.022145,
     "end_time": "2022-07-06T11:14:33.326302",
     "exception": false,
     "start_time": "2022-07-06T11:14:33.304157",
     "status": "completed"
    },
    "tags": []
   },
   "outputs": [
    {
     "data": {
      "text/plain": [
       "Index(['Airline', 'Date_of_Journey', 'Source', 'Destination', 'Route',\n",
       "       'Dep_Time', 'Arrival_Time', 'Duration', 'Total_Stops',\n",
       "       'Additional_Info', 'Price'],\n",
       "      dtype='object')"
      ]
     },
     "execution_count": 9,
     "metadata": {},
     "output_type": "execute_result"
    }
   ],
   "source": [
    "final_df.columns"
   ]
  },
  {
   "cell_type": "code",
   "execution_count": 10,
   "id": "4cd1b46f",
   "metadata": {
    "execution": {
     "iopub.execute_input": "2022-07-06T11:14:33.352512Z",
     "iopub.status.busy": "2022-07-06T11:14:33.352169Z",
     "iopub.status.idle": "2022-07-06T11:14:33.366305Z",
     "shell.execute_reply": "2022-07-06T11:14:33.365403Z"
    },
    "papermill": {
     "duration": 0.030128,
     "end_time": "2022-07-06T11:14:33.368723",
     "exception": false,
     "start_time": "2022-07-06T11:14:33.338595",
     "status": "completed"
    },
    "tags": []
   },
   "outputs": [],
   "source": [
    "##Feature Engineering Process\n",
    "final_df['Date_of_Journey'] = pd.to_datetime(final_df['Date_of_Journey'],dayfirst=True)#formatting the object to datetime"
   ]
  },
  {
   "cell_type": "code",
   "execution_count": 11,
   "id": "e92a662b",
   "metadata": {
    "execution": {
     "iopub.execute_input": "2022-07-06T11:14:33.395853Z",
     "iopub.status.busy": "2022-07-06T11:14:33.395462Z",
     "iopub.status.idle": "2022-07-06T11:14:33.407926Z",
     "shell.execute_reply": "2022-07-06T11:14:33.407022Z"
    },
    "papermill": {
     "duration": 0.029031,
     "end_time": "2022-07-06T11:14:33.410271",
     "exception": false,
     "start_time": "2022-07-06T11:14:33.381240",
     "status": "completed"
    },
    "tags": []
   },
   "outputs": [],
   "source": [
    "final_df['Date'] = final_df['Date_of_Journey'].dt.day#It separates the date of journey column into date column\n",
    "final_df['Month'] = final_df['Date_of_Journey'].dt.month#It separates the date of journey column into month column\n",
    "final_df['Year'] = final_df['Date_of_Journey'].dt.year#It separates the date of journey column into year column"
   ]
  },
  {
   "cell_type": "code",
   "execution_count": 12,
   "id": "50cf6388",
   "metadata": {
    "execution": {
     "iopub.execute_input": "2022-07-06T11:14:33.437003Z",
     "iopub.status.busy": "2022-07-06T11:14:33.436634Z",
     "iopub.status.idle": "2022-07-06T11:14:33.453913Z",
     "shell.execute_reply": "2022-07-06T11:14:33.452764Z"
    },
    "papermill": {
     "duration": 0.033438,
     "end_time": "2022-07-06T11:14:33.456143",
     "exception": false,
     "start_time": "2022-07-06T11:14:33.422705",
     "status": "completed"
    },
    "tags": []
   },
   "outputs": [
    {
     "data": {
      "text/html": [
       "<div>\n",
       "<style scoped>\n",
       "    .dataframe tbody tr th:only-of-type {\n",
       "        vertical-align: middle;\n",
       "    }\n",
       "\n",
       "    .dataframe tbody tr th {\n",
       "        vertical-align: top;\n",
       "    }\n",
       "\n",
       "    .dataframe thead th {\n",
       "        text-align: right;\n",
       "    }\n",
       "</style>\n",
       "<table border=\"1\" class=\"dataframe\">\n",
       "  <thead>\n",
       "    <tr style=\"text-align: right;\">\n",
       "      <th></th>\n",
       "      <th>Airline</th>\n",
       "      <th>Date_of_Journey</th>\n",
       "      <th>Source</th>\n",
       "      <th>Destination</th>\n",
       "      <th>Route</th>\n",
       "      <th>Dep_Time</th>\n",
       "      <th>Arrival_Time</th>\n",
       "      <th>Duration</th>\n",
       "      <th>Total_Stops</th>\n",
       "      <th>Additional_Info</th>\n",
       "      <th>Price</th>\n",
       "      <th>Date</th>\n",
       "      <th>Month</th>\n",
       "      <th>Year</th>\n",
       "    </tr>\n",
       "  </thead>\n",
       "  <tbody>\n",
       "    <tr>\n",
       "      <th>0</th>\n",
       "      <td>IndiGo</td>\n",
       "      <td>2019-03-24</td>\n",
       "      <td>Banglore</td>\n",
       "      <td>New Delhi</td>\n",
       "      <td>BLR → DEL</td>\n",
       "      <td>22:20</td>\n",
       "      <td>01:10 22 Mar</td>\n",
       "      <td>2h 50m</td>\n",
       "      <td>non-stop</td>\n",
       "      <td>No info</td>\n",
       "      <td>3897.0</td>\n",
       "      <td>24</td>\n",
       "      <td>3</td>\n",
       "      <td>2019</td>\n",
       "    </tr>\n",
       "    <tr>\n",
       "      <th>1</th>\n",
       "      <td>Air India</td>\n",
       "      <td>2019-05-01</td>\n",
       "      <td>Kolkata</td>\n",
       "      <td>Banglore</td>\n",
       "      <td>CCU → IXR → BBI → BLR</td>\n",
       "      <td>05:50</td>\n",
       "      <td>13:15</td>\n",
       "      <td>7h 25m</td>\n",
       "      <td>2 stops</td>\n",
       "      <td>No info</td>\n",
       "      <td>7662.0</td>\n",
       "      <td>1</td>\n",
       "      <td>5</td>\n",
       "      <td>2019</td>\n",
       "    </tr>\n",
       "    <tr>\n",
       "      <th>2</th>\n",
       "      <td>Jet Airways</td>\n",
       "      <td>2019-06-09</td>\n",
       "      <td>Delhi</td>\n",
       "      <td>Cochin</td>\n",
       "      <td>DEL → LKO → BOM → COK</td>\n",
       "      <td>09:25</td>\n",
       "      <td>04:25 10 Jun</td>\n",
       "      <td>19h</td>\n",
       "      <td>2 stops</td>\n",
       "      <td>No info</td>\n",
       "      <td>13882.0</td>\n",
       "      <td>9</td>\n",
       "      <td>6</td>\n",
       "      <td>2019</td>\n",
       "    </tr>\n",
       "    <tr>\n",
       "      <th>3</th>\n",
       "      <td>IndiGo</td>\n",
       "      <td>2019-05-12</td>\n",
       "      <td>Kolkata</td>\n",
       "      <td>Banglore</td>\n",
       "      <td>CCU → NAG → BLR</td>\n",
       "      <td>18:05</td>\n",
       "      <td>23:30</td>\n",
       "      <td>5h 25m</td>\n",
       "      <td>1 stop</td>\n",
       "      <td>No info</td>\n",
       "      <td>6218.0</td>\n",
       "      <td>12</td>\n",
       "      <td>5</td>\n",
       "      <td>2019</td>\n",
       "    </tr>\n",
       "    <tr>\n",
       "      <th>4</th>\n",
       "      <td>IndiGo</td>\n",
       "      <td>2019-03-01</td>\n",
       "      <td>Banglore</td>\n",
       "      <td>New Delhi</td>\n",
       "      <td>BLR → NAG → DEL</td>\n",
       "      <td>16:50</td>\n",
       "      <td>21:35</td>\n",
       "      <td>4h 45m</td>\n",
       "      <td>1 stop</td>\n",
       "      <td>No info</td>\n",
       "      <td>13302.0</td>\n",
       "      <td>1</td>\n",
       "      <td>3</td>\n",
       "      <td>2019</td>\n",
       "    </tr>\n",
       "  </tbody>\n",
       "</table>\n",
       "</div>"
      ],
      "text/plain": [
       "       Airline Date_of_Journey    Source Destination                  Route  \\\n",
       "0       IndiGo      2019-03-24  Banglore   New Delhi              BLR → DEL   \n",
       "1    Air India      2019-05-01   Kolkata    Banglore  CCU → IXR → BBI → BLR   \n",
       "2  Jet Airways      2019-06-09     Delhi      Cochin  DEL → LKO → BOM → COK   \n",
       "3       IndiGo      2019-05-12   Kolkata    Banglore        CCU → NAG → BLR   \n",
       "4       IndiGo      2019-03-01  Banglore   New Delhi        BLR → NAG → DEL   \n",
       "\n",
       "  Dep_Time  Arrival_Time Duration Total_Stops Additional_Info    Price  Date  \\\n",
       "0    22:20  01:10 22 Mar   2h 50m    non-stop         No info   3897.0    24   \n",
       "1    05:50         13:15   7h 25m     2 stops         No info   7662.0     1   \n",
       "2    09:25  04:25 10 Jun      19h     2 stops         No info  13882.0     9   \n",
       "3    18:05         23:30   5h 25m      1 stop         No info   6218.0    12   \n",
       "4    16:50         21:35   4h 45m      1 stop         No info  13302.0     1   \n",
       "\n",
       "   Month  Year  \n",
       "0      3  2019  \n",
       "1      5  2019  \n",
       "2      6  2019  \n",
       "3      5  2019  \n",
       "4      3  2019  "
      ]
     },
     "execution_count": 12,
     "metadata": {},
     "output_type": "execute_result"
    }
   ],
   "source": [
    "final_df.head()#It shows the first 5 rows of the data, here we can see that separate date month and year columns"
   ]
  },
  {
   "cell_type": "code",
   "execution_count": 13,
   "id": "b810fbb8",
   "metadata": {
    "execution": {
     "iopub.execute_input": "2022-07-06T11:14:33.483082Z",
     "iopub.status.busy": "2022-07-06T11:14:33.482711Z",
     "iopub.status.idle": "2022-07-06T11:14:33.491990Z",
     "shell.execute_reply": "2022-07-06T11:14:33.490954Z"
    },
    "papermill": {
     "duration": 0.025696,
     "end_time": "2022-07-06T11:14:33.494367",
     "exception": false,
     "start_time": "2022-07-06T11:14:33.468671",
     "status": "completed"
    },
    "tags": []
   },
   "outputs": [],
   "source": [
    "#dropping the date of journey column\n",
    "final_df.drop('Date_of_Journey',axis=1,inplace=True)"
   ]
  },
  {
   "cell_type": "code",
   "execution_count": 14,
   "id": "c3c423c8",
   "metadata": {
    "execution": {
     "iopub.execute_input": "2022-07-06T11:14:33.522156Z",
     "iopub.status.busy": "2022-07-06T11:14:33.521355Z",
     "iopub.status.idle": "2022-07-06T11:14:33.538230Z",
     "shell.execute_reply": "2022-07-06T11:14:33.537250Z"
    },
    "papermill": {
     "duration": 0.033049,
     "end_time": "2022-07-06T11:14:33.540294",
     "exception": false,
     "start_time": "2022-07-06T11:14:33.507245",
     "status": "completed"
    },
    "tags": []
   },
   "outputs": [
    {
     "data": {
      "text/html": [
       "<div>\n",
       "<style scoped>\n",
       "    .dataframe tbody tr th:only-of-type {\n",
       "        vertical-align: middle;\n",
       "    }\n",
       "\n",
       "    .dataframe tbody tr th {\n",
       "        vertical-align: top;\n",
       "    }\n",
       "\n",
       "    .dataframe thead th {\n",
       "        text-align: right;\n",
       "    }\n",
       "</style>\n",
       "<table border=\"1\" class=\"dataframe\">\n",
       "  <thead>\n",
       "    <tr style=\"text-align: right;\">\n",
       "      <th></th>\n",
       "      <th>Airline</th>\n",
       "      <th>Source</th>\n",
       "      <th>Destination</th>\n",
       "      <th>Route</th>\n",
       "      <th>Dep_Time</th>\n",
       "      <th>Arrival_Time</th>\n",
       "      <th>Duration</th>\n",
       "      <th>Total_Stops</th>\n",
       "      <th>Additional_Info</th>\n",
       "      <th>Price</th>\n",
       "      <th>Date</th>\n",
       "      <th>Month</th>\n",
       "      <th>Year</th>\n",
       "    </tr>\n",
       "  </thead>\n",
       "  <tbody>\n",
       "    <tr>\n",
       "      <th>0</th>\n",
       "      <td>IndiGo</td>\n",
       "      <td>Banglore</td>\n",
       "      <td>New Delhi</td>\n",
       "      <td>BLR → DEL</td>\n",
       "      <td>22:20</td>\n",
       "      <td>01:10 22 Mar</td>\n",
       "      <td>2h 50m</td>\n",
       "      <td>non-stop</td>\n",
       "      <td>No info</td>\n",
       "      <td>3897.0</td>\n",
       "      <td>24</td>\n",
       "      <td>3</td>\n",
       "      <td>2019</td>\n",
       "    </tr>\n",
       "    <tr>\n",
       "      <th>1</th>\n",
       "      <td>Air India</td>\n",
       "      <td>Kolkata</td>\n",
       "      <td>Banglore</td>\n",
       "      <td>CCU → IXR → BBI → BLR</td>\n",
       "      <td>05:50</td>\n",
       "      <td>13:15</td>\n",
       "      <td>7h 25m</td>\n",
       "      <td>2 stops</td>\n",
       "      <td>No info</td>\n",
       "      <td>7662.0</td>\n",
       "      <td>1</td>\n",
       "      <td>5</td>\n",
       "      <td>2019</td>\n",
       "    </tr>\n",
       "    <tr>\n",
       "      <th>2</th>\n",
       "      <td>Jet Airways</td>\n",
       "      <td>Delhi</td>\n",
       "      <td>Cochin</td>\n",
       "      <td>DEL → LKO → BOM → COK</td>\n",
       "      <td>09:25</td>\n",
       "      <td>04:25 10 Jun</td>\n",
       "      <td>19h</td>\n",
       "      <td>2 stops</td>\n",
       "      <td>No info</td>\n",
       "      <td>13882.0</td>\n",
       "      <td>9</td>\n",
       "      <td>6</td>\n",
       "      <td>2019</td>\n",
       "    </tr>\n",
       "    <tr>\n",
       "      <th>3</th>\n",
       "      <td>IndiGo</td>\n",
       "      <td>Kolkata</td>\n",
       "      <td>Banglore</td>\n",
       "      <td>CCU → NAG → BLR</td>\n",
       "      <td>18:05</td>\n",
       "      <td>23:30</td>\n",
       "      <td>5h 25m</td>\n",
       "      <td>1 stop</td>\n",
       "      <td>No info</td>\n",
       "      <td>6218.0</td>\n",
       "      <td>12</td>\n",
       "      <td>5</td>\n",
       "      <td>2019</td>\n",
       "    </tr>\n",
       "    <tr>\n",
       "      <th>4</th>\n",
       "      <td>IndiGo</td>\n",
       "      <td>Banglore</td>\n",
       "      <td>New Delhi</td>\n",
       "      <td>BLR → NAG → DEL</td>\n",
       "      <td>16:50</td>\n",
       "      <td>21:35</td>\n",
       "      <td>4h 45m</td>\n",
       "      <td>1 stop</td>\n",
       "      <td>No info</td>\n",
       "      <td>13302.0</td>\n",
       "      <td>1</td>\n",
       "      <td>3</td>\n",
       "      <td>2019</td>\n",
       "    </tr>\n",
       "  </tbody>\n",
       "</table>\n",
       "</div>"
      ],
      "text/plain": [
       "       Airline    Source Destination                  Route Dep_Time  \\\n",
       "0       IndiGo  Banglore   New Delhi              BLR → DEL    22:20   \n",
       "1    Air India   Kolkata    Banglore  CCU → IXR → BBI → BLR    05:50   \n",
       "2  Jet Airways     Delhi      Cochin  DEL → LKO → BOM → COK    09:25   \n",
       "3       IndiGo   Kolkata    Banglore        CCU → NAG → BLR    18:05   \n",
       "4       IndiGo  Banglore   New Delhi        BLR → NAG → DEL    16:50   \n",
       "\n",
       "   Arrival_Time Duration Total_Stops Additional_Info    Price  Date  Month  \\\n",
       "0  01:10 22 Mar   2h 50m    non-stop         No info   3897.0    24      3   \n",
       "1         13:15   7h 25m     2 stops         No info   7662.0     1      5   \n",
       "2  04:25 10 Jun      19h     2 stops         No info  13882.0     9      6   \n",
       "3         23:30   5h 25m      1 stop         No info   6218.0    12      5   \n",
       "4         21:35   4h 45m      1 stop         No info  13302.0     1      3   \n",
       "\n",
       "   Year  \n",
       "0  2019  \n",
       "1  2019  \n",
       "2  2019  \n",
       "3  2019  \n",
       "4  2019  "
      ]
     },
     "execution_count": 14,
     "metadata": {},
     "output_type": "execute_result"
    }
   ],
   "source": [
    "final_df.head()#It shows that date of journey column has been removed"
   ]
  },
  {
   "cell_type": "code",
   "execution_count": 15,
   "id": "c803ed37",
   "metadata": {
    "execution": {
     "iopub.execute_input": "2022-07-06T11:14:33.567757Z",
     "iopub.status.busy": "2022-07-06T11:14:33.567276Z",
     "iopub.status.idle": "2022-07-06T11:14:33.577687Z",
     "shell.execute_reply": "2022-07-06T11:14:33.576424Z"
    },
    "papermill": {
     "duration": 0.026595,
     "end_time": "2022-07-06T11:14:33.579858",
     "exception": false,
     "start_time": "2022-07-06T11:14:33.553263",
     "status": "completed"
    },
    "tags": []
   },
   "outputs": [],
   "source": [
    "##splitting the arrival_time column\n",
    "final_df['Arrival_Time'] = final_df['Arrival_Time'].apply(lambda x : x.split(' ')[0])"
   ]
  },
  {
   "cell_type": "code",
   "execution_count": 16,
   "id": "17e82c63",
   "metadata": {
    "execution": {
     "iopub.execute_input": "2022-07-06T11:14:33.607379Z",
     "iopub.status.busy": "2022-07-06T11:14:33.607004Z",
     "iopub.status.idle": "2022-07-06T11:14:33.623922Z",
     "shell.execute_reply": "2022-07-06T11:14:33.622882Z"
    },
    "papermill": {
     "duration": 0.03291,
     "end_time": "2022-07-06T11:14:33.625954",
     "exception": false,
     "start_time": "2022-07-06T11:14:33.593044",
     "status": "completed"
    },
    "tags": []
   },
   "outputs": [
    {
     "data": {
      "text/html": [
       "<div>\n",
       "<style scoped>\n",
       "    .dataframe tbody tr th:only-of-type {\n",
       "        vertical-align: middle;\n",
       "    }\n",
       "\n",
       "    .dataframe tbody tr th {\n",
       "        vertical-align: top;\n",
       "    }\n",
       "\n",
       "    .dataframe thead th {\n",
       "        text-align: right;\n",
       "    }\n",
       "</style>\n",
       "<table border=\"1\" class=\"dataframe\">\n",
       "  <thead>\n",
       "    <tr style=\"text-align: right;\">\n",
       "      <th></th>\n",
       "      <th>Airline</th>\n",
       "      <th>Source</th>\n",
       "      <th>Destination</th>\n",
       "      <th>Route</th>\n",
       "      <th>Dep_Time</th>\n",
       "      <th>Arrival_Time</th>\n",
       "      <th>Duration</th>\n",
       "      <th>Total_Stops</th>\n",
       "      <th>Additional_Info</th>\n",
       "      <th>Price</th>\n",
       "      <th>Date</th>\n",
       "      <th>Month</th>\n",
       "      <th>Year</th>\n",
       "    </tr>\n",
       "  </thead>\n",
       "  <tbody>\n",
       "    <tr>\n",
       "      <th>0</th>\n",
       "      <td>IndiGo</td>\n",
       "      <td>Banglore</td>\n",
       "      <td>New Delhi</td>\n",
       "      <td>BLR → DEL</td>\n",
       "      <td>22:20</td>\n",
       "      <td>01:10</td>\n",
       "      <td>2h 50m</td>\n",
       "      <td>non-stop</td>\n",
       "      <td>No info</td>\n",
       "      <td>3897.0</td>\n",
       "      <td>24</td>\n",
       "      <td>3</td>\n",
       "      <td>2019</td>\n",
       "    </tr>\n",
       "    <tr>\n",
       "      <th>1</th>\n",
       "      <td>Air India</td>\n",
       "      <td>Kolkata</td>\n",
       "      <td>Banglore</td>\n",
       "      <td>CCU → IXR → BBI → BLR</td>\n",
       "      <td>05:50</td>\n",
       "      <td>13:15</td>\n",
       "      <td>7h 25m</td>\n",
       "      <td>2 stops</td>\n",
       "      <td>No info</td>\n",
       "      <td>7662.0</td>\n",
       "      <td>1</td>\n",
       "      <td>5</td>\n",
       "      <td>2019</td>\n",
       "    </tr>\n",
       "    <tr>\n",
       "      <th>2</th>\n",
       "      <td>Jet Airways</td>\n",
       "      <td>Delhi</td>\n",
       "      <td>Cochin</td>\n",
       "      <td>DEL → LKO → BOM → COK</td>\n",
       "      <td>09:25</td>\n",
       "      <td>04:25</td>\n",
       "      <td>19h</td>\n",
       "      <td>2 stops</td>\n",
       "      <td>No info</td>\n",
       "      <td>13882.0</td>\n",
       "      <td>9</td>\n",
       "      <td>6</td>\n",
       "      <td>2019</td>\n",
       "    </tr>\n",
       "    <tr>\n",
       "      <th>3</th>\n",
       "      <td>IndiGo</td>\n",
       "      <td>Kolkata</td>\n",
       "      <td>Banglore</td>\n",
       "      <td>CCU → NAG → BLR</td>\n",
       "      <td>18:05</td>\n",
       "      <td>23:30</td>\n",
       "      <td>5h 25m</td>\n",
       "      <td>1 stop</td>\n",
       "      <td>No info</td>\n",
       "      <td>6218.0</td>\n",
       "      <td>12</td>\n",
       "      <td>5</td>\n",
       "      <td>2019</td>\n",
       "    </tr>\n",
       "    <tr>\n",
       "      <th>4</th>\n",
       "      <td>IndiGo</td>\n",
       "      <td>Banglore</td>\n",
       "      <td>New Delhi</td>\n",
       "      <td>BLR → NAG → DEL</td>\n",
       "      <td>16:50</td>\n",
       "      <td>21:35</td>\n",
       "      <td>4h 45m</td>\n",
       "      <td>1 stop</td>\n",
       "      <td>No info</td>\n",
       "      <td>13302.0</td>\n",
       "      <td>1</td>\n",
       "      <td>3</td>\n",
       "      <td>2019</td>\n",
       "    </tr>\n",
       "  </tbody>\n",
       "</table>\n",
       "</div>"
      ],
      "text/plain": [
       "       Airline    Source Destination                  Route Dep_Time  \\\n",
       "0       IndiGo  Banglore   New Delhi              BLR → DEL    22:20   \n",
       "1    Air India   Kolkata    Banglore  CCU → IXR → BBI → BLR    05:50   \n",
       "2  Jet Airways     Delhi      Cochin  DEL → LKO → BOM → COK    09:25   \n",
       "3       IndiGo   Kolkata    Banglore        CCU → NAG → BLR    18:05   \n",
       "4       IndiGo  Banglore   New Delhi        BLR → NAG → DEL    16:50   \n",
       "\n",
       "  Arrival_Time Duration Total_Stops Additional_Info    Price  Date  Month  \\\n",
       "0        01:10   2h 50m    non-stop         No info   3897.0    24      3   \n",
       "1        13:15   7h 25m     2 stops         No info   7662.0     1      5   \n",
       "2        04:25      19h     2 stops         No info  13882.0     9      6   \n",
       "3        23:30   5h 25m      1 stop         No info   6218.0    12      5   \n",
       "4        21:35   4h 45m      1 stop         No info  13302.0     1      3   \n",
       "\n",
       "   Year  \n",
       "0  2019  \n",
       "1  2019  \n",
       "2  2019  \n",
       "3  2019  \n",
       "4  2019  "
      ]
     },
     "execution_count": 16,
     "metadata": {},
     "output_type": "execute_result"
    }
   ],
   "source": [
    "final_df.head()"
   ]
  },
  {
   "cell_type": "code",
   "execution_count": 17,
   "id": "67e707db",
   "metadata": {
    "execution": {
     "iopub.execute_input": "2022-07-06T11:14:33.654531Z",
     "iopub.status.busy": "2022-07-06T11:14:33.654133Z",
     "iopub.status.idle": "2022-07-06T11:14:33.668437Z",
     "shell.execute_reply": "2022-07-06T11:14:33.667700Z"
    },
    "papermill": {
     "duration": 0.03102,
     "end_time": "2022-07-06T11:14:33.670309",
     "exception": false,
     "start_time": "2022-07-06T11:14:33.639289",
     "status": "completed"
    },
    "tags": []
   },
   "outputs": [
    {
     "data": {
      "text/plain": [
       "Airline               0\n",
       "Source                0\n",
       "Destination           0\n",
       "Route                 1\n",
       "Dep_Time              0\n",
       "Arrival_Time          0\n",
       "Duration              0\n",
       "Total_Stops           1\n",
       "Additional_Info       0\n",
       "Price              2671\n",
       "Date                  0\n",
       "Month                 0\n",
       "Year                  0\n",
       "dtype: int64"
      ]
     },
     "execution_count": 17,
     "metadata": {},
     "output_type": "execute_result"
    }
   ],
   "source": [
    "final_df.isnull().sum()##it shows the null value count"
   ]
  },
  {
   "cell_type": "code",
   "execution_count": 18,
   "id": "2a225d9b",
   "metadata": {
    "execution": {
     "iopub.execute_input": "2022-07-06T11:14:33.698407Z",
     "iopub.status.busy": "2022-07-06T11:14:33.698031Z",
     "iopub.status.idle": "2022-07-06T11:14:33.715347Z",
     "shell.execute_reply": "2022-07-06T11:14:33.714217Z"
    },
    "papermill": {
     "duration": 0.033965,
     "end_time": "2022-07-06T11:14:33.717630",
     "exception": false,
     "start_time": "2022-07-06T11:14:33.683665",
     "status": "completed"
    },
    "tags": []
   },
   "outputs": [],
   "source": [
    "final_df['Arrival_hour'] = final_df['Arrival_Time'].apply(lambda x:x.split(':')[0])#It splits the arrival time into hour\n",
    "final_df['Arrival_min'] = final_df['Arrival_Time'].apply(lambda x:x.split(':')[1])#It splits the arrival time into min"
   ]
  },
  {
   "cell_type": "code",
   "execution_count": 19,
   "id": "fa25d688",
   "metadata": {
    "execution": {
     "iopub.execute_input": "2022-07-06T11:14:33.746104Z",
     "iopub.status.busy": "2022-07-06T11:14:33.745698Z",
     "iopub.status.idle": "2022-07-06T11:14:33.762406Z",
     "shell.execute_reply": "2022-07-06T11:14:33.761402Z"
    },
    "papermill": {
     "duration": 0.033574,
     "end_time": "2022-07-06T11:14:33.764571",
     "exception": false,
     "start_time": "2022-07-06T11:14:33.730997",
     "status": "completed"
    },
    "tags": []
   },
   "outputs": [
    {
     "data": {
      "text/html": [
       "<div>\n",
       "<style scoped>\n",
       "    .dataframe tbody tr th:only-of-type {\n",
       "        vertical-align: middle;\n",
       "    }\n",
       "\n",
       "    .dataframe tbody tr th {\n",
       "        vertical-align: top;\n",
       "    }\n",
       "\n",
       "    .dataframe thead th {\n",
       "        text-align: right;\n",
       "    }\n",
       "</style>\n",
       "<table border=\"1\" class=\"dataframe\">\n",
       "  <thead>\n",
       "    <tr style=\"text-align: right;\">\n",
       "      <th></th>\n",
       "      <th>Airline</th>\n",
       "      <th>Source</th>\n",
       "      <th>Destination</th>\n",
       "      <th>Route</th>\n",
       "      <th>Dep_Time</th>\n",
       "      <th>Arrival_Time</th>\n",
       "      <th>Duration</th>\n",
       "      <th>Total_Stops</th>\n",
       "      <th>Additional_Info</th>\n",
       "      <th>Price</th>\n",
       "      <th>Date</th>\n",
       "      <th>Month</th>\n",
       "      <th>Year</th>\n",
       "      <th>Arrival_hour</th>\n",
       "      <th>Arrival_min</th>\n",
       "    </tr>\n",
       "  </thead>\n",
       "  <tbody>\n",
       "    <tr>\n",
       "      <th>0</th>\n",
       "      <td>IndiGo</td>\n",
       "      <td>Banglore</td>\n",
       "      <td>New Delhi</td>\n",
       "      <td>BLR → DEL</td>\n",
       "      <td>22:20</td>\n",
       "      <td>01:10</td>\n",
       "      <td>2h 50m</td>\n",
       "      <td>non-stop</td>\n",
       "      <td>No info</td>\n",
       "      <td>3897.0</td>\n",
       "      <td>24</td>\n",
       "      <td>3</td>\n",
       "      <td>2019</td>\n",
       "      <td>01</td>\n",
       "      <td>10</td>\n",
       "    </tr>\n",
       "  </tbody>\n",
       "</table>\n",
       "</div>"
      ],
      "text/plain": [
       "  Airline    Source Destination      Route Dep_Time Arrival_Time Duration  \\\n",
       "0  IndiGo  Banglore   New Delhi  BLR → DEL    22:20        01:10   2h 50m   \n",
       "\n",
       "  Total_Stops Additional_Info   Price  Date  Month  Year Arrival_hour  \\\n",
       "0    non-stop         No info  3897.0    24      3  2019           01   \n",
       "\n",
       "  Arrival_min  \n",
       "0          10  "
      ]
     },
     "execution_count": 19,
     "metadata": {},
     "output_type": "execute_result"
    }
   ],
   "source": [
    "final_df.head(1)#It shows the arrival hour and min column"
   ]
  },
  {
   "cell_type": "code",
   "execution_count": 20,
   "id": "6a598cdf",
   "metadata": {
    "execution": {
     "iopub.execute_input": "2022-07-06T11:14:33.793268Z",
     "iopub.status.busy": "2022-07-06T11:14:33.792879Z",
     "iopub.status.idle": "2022-07-06T11:14:33.801976Z",
     "shell.execute_reply": "2022-07-06T11:14:33.800806Z"
    },
    "papermill": {
     "duration": 0.026281,
     "end_time": "2022-07-06T11:14:33.804326",
     "exception": false,
     "start_time": "2022-07-06T11:14:33.778045",
     "status": "completed"
    },
    "tags": []
   },
   "outputs": [],
   "source": [
    "#changing the arrival hour and minute into int data type\n",
    "final_df['Arrival_hour'] = final_df['Arrival_hour'].astype(int)\n",
    "final_df['Arrival_min'] = final_df['Arrival_min'].astype(int)"
   ]
  },
  {
   "cell_type": "code",
   "execution_count": 21,
   "id": "cbbc4377",
   "metadata": {
    "execution": {
     "iopub.execute_input": "2022-07-06T11:14:33.833576Z",
     "iopub.status.busy": "2022-07-06T11:14:33.833193Z",
     "iopub.status.idle": "2022-07-06T11:14:33.852623Z",
     "shell.execute_reply": "2022-07-06T11:14:33.850835Z"
    },
    "papermill": {
     "duration": 0.038054,
     "end_time": "2022-07-06T11:14:33.855984",
     "exception": false,
     "start_time": "2022-07-06T11:14:33.817930",
     "status": "completed"
    },
    "tags": []
   },
   "outputs": [
    {
     "name": "stdout",
     "output_type": "stream",
     "text": [
      "<class 'pandas.core.frame.DataFrame'>\n",
      "Int64Index: 13354 entries, 0 to 2670\n",
      "Data columns (total 15 columns):\n",
      " #   Column           Non-Null Count  Dtype  \n",
      "---  ------           --------------  -----  \n",
      " 0   Airline          13354 non-null  object \n",
      " 1   Source           13354 non-null  object \n",
      " 2   Destination      13354 non-null  object \n",
      " 3   Route            13353 non-null  object \n",
      " 4   Dep_Time         13354 non-null  object \n",
      " 5   Arrival_Time     13354 non-null  object \n",
      " 6   Duration         13354 non-null  object \n",
      " 7   Total_Stops      13353 non-null  object \n",
      " 8   Additional_Info  13354 non-null  object \n",
      " 9   Price            10683 non-null  float64\n",
      " 10  Date             13354 non-null  int64  \n",
      " 11  Month            13354 non-null  int64  \n",
      " 12  Year             13354 non-null  int64  \n",
      " 13  Arrival_hour     13354 non-null  int64  \n",
      " 14  Arrival_min      13354 non-null  int64  \n",
      "dtypes: float64(1), int64(5), object(9)\n",
      "memory usage: 1.6+ MB\n"
     ]
    }
   ],
   "source": [
    "final_df.info()"
   ]
  },
  {
   "cell_type": "code",
   "execution_count": 22,
   "id": "7369f189",
   "metadata": {
    "execution": {
     "iopub.execute_input": "2022-07-06T11:14:33.885324Z",
     "iopub.status.busy": "2022-07-06T11:14:33.884988Z",
     "iopub.status.idle": "2022-07-06T11:14:33.893160Z",
     "shell.execute_reply": "2022-07-06T11:14:33.892228Z"
    },
    "papermill": {
     "duration": 0.025161,
     "end_time": "2022-07-06T11:14:33.895468",
     "exception": false,
     "start_time": "2022-07-06T11:14:33.870307",
     "status": "completed"
    },
    "tags": []
   },
   "outputs": [],
   "source": [
    "##dropping the arrival time column\n",
    "final_df.drop('Arrival_Time',axis=1,inplace=True)"
   ]
  },
  {
   "cell_type": "code",
   "execution_count": 23,
   "id": "ab0cf948",
   "metadata": {
    "execution": {
     "iopub.execute_input": "2022-07-06T11:14:33.924529Z",
     "iopub.status.busy": "2022-07-06T11:14:33.924147Z",
     "iopub.status.idle": "2022-07-06T11:14:33.939824Z",
     "shell.execute_reply": "2022-07-06T11:14:33.938642Z"
    },
    "papermill": {
     "duration": 0.032827,
     "end_time": "2022-07-06T11:14:33.941902",
     "exception": false,
     "start_time": "2022-07-06T11:14:33.909075",
     "status": "completed"
    },
    "tags": []
   },
   "outputs": [
    {
     "data": {
      "text/html": [
       "<div>\n",
       "<style scoped>\n",
       "    .dataframe tbody tr th:only-of-type {\n",
       "        vertical-align: middle;\n",
       "    }\n",
       "\n",
       "    .dataframe tbody tr th {\n",
       "        vertical-align: top;\n",
       "    }\n",
       "\n",
       "    .dataframe thead th {\n",
       "        text-align: right;\n",
       "    }\n",
       "</style>\n",
       "<table border=\"1\" class=\"dataframe\">\n",
       "  <thead>\n",
       "    <tr style=\"text-align: right;\">\n",
       "      <th></th>\n",
       "      <th>Airline</th>\n",
       "      <th>Source</th>\n",
       "      <th>Destination</th>\n",
       "      <th>Route</th>\n",
       "      <th>Dep_Time</th>\n",
       "      <th>Duration</th>\n",
       "      <th>Total_Stops</th>\n",
       "      <th>Additional_Info</th>\n",
       "      <th>Price</th>\n",
       "      <th>Date</th>\n",
       "      <th>Month</th>\n",
       "      <th>Year</th>\n",
       "      <th>Arrival_hour</th>\n",
       "      <th>Arrival_min</th>\n",
       "    </tr>\n",
       "  </thead>\n",
       "  <tbody>\n",
       "    <tr>\n",
       "      <th>0</th>\n",
       "      <td>IndiGo</td>\n",
       "      <td>Banglore</td>\n",
       "      <td>New Delhi</td>\n",
       "      <td>BLR → DEL</td>\n",
       "      <td>22:20</td>\n",
       "      <td>2h 50m</td>\n",
       "      <td>non-stop</td>\n",
       "      <td>No info</td>\n",
       "      <td>3897.0</td>\n",
       "      <td>24</td>\n",
       "      <td>3</td>\n",
       "      <td>2019</td>\n",
       "      <td>1</td>\n",
       "      <td>10</td>\n",
       "    </tr>\n",
       "  </tbody>\n",
       "</table>\n",
       "</div>"
      ],
      "text/plain": [
       "  Airline    Source Destination      Route Dep_Time Duration Total_Stops  \\\n",
       "0  IndiGo  Banglore   New Delhi  BLR → DEL    22:20   2h 50m    non-stop   \n",
       "\n",
       "  Additional_Info   Price  Date  Month  Year  Arrival_hour  Arrival_min  \n",
       "0         No info  3897.0    24      3  2019             1           10  "
      ]
     },
     "execution_count": 23,
     "metadata": {},
     "output_type": "execute_result"
    }
   ],
   "source": [
    "final_df.head(1)#It shows the first 1 rows after dropping the arrival time"
   ]
  },
  {
   "cell_type": "code",
   "execution_count": 24,
   "id": "4b4901fe",
   "metadata": {
    "execution": {
     "iopub.execute_input": "2022-07-06T11:14:33.970827Z",
     "iopub.status.busy": "2022-07-06T11:14:33.970426Z",
     "iopub.status.idle": "2022-07-06T11:14:34.011917Z",
     "shell.execute_reply": "2022-07-06T11:14:34.010944Z"
    },
    "papermill": {
     "duration": 0.058801,
     "end_time": "2022-07-06T11:14:34.014421",
     "exception": false,
     "start_time": "2022-07-06T11:14:33.955620",
     "status": "completed"
    },
    "tags": []
   },
   "outputs": [],
   "source": [
    "##splitting the departure time into hour and min\n",
    "final_df['Departure_Hour'] = final_df['Dep_Time'].str.split(':').str[0]\n",
    "final_df['Departure_min'] = final_df['Dep_Time'].str.split(':').str[1]"
   ]
  },
  {
   "cell_type": "code",
   "execution_count": 25,
   "id": "4c781578",
   "metadata": {
    "execution": {
     "iopub.execute_input": "2022-07-06T11:14:34.043605Z",
     "iopub.status.busy": "2022-07-06T11:14:34.043189Z",
     "iopub.status.idle": "2022-07-06T11:14:34.060252Z",
     "shell.execute_reply": "2022-07-06T11:14:34.058973Z"
    },
    "papermill": {
     "duration": 0.034296,
     "end_time": "2022-07-06T11:14:34.062404",
     "exception": false,
     "start_time": "2022-07-06T11:14:34.028108",
     "status": "completed"
    },
    "tags": []
   },
   "outputs": [
    {
     "data": {
      "text/html": [
       "<div>\n",
       "<style scoped>\n",
       "    .dataframe tbody tr th:only-of-type {\n",
       "        vertical-align: middle;\n",
       "    }\n",
       "\n",
       "    .dataframe tbody tr th {\n",
       "        vertical-align: top;\n",
       "    }\n",
       "\n",
       "    .dataframe thead th {\n",
       "        text-align: right;\n",
       "    }\n",
       "</style>\n",
       "<table border=\"1\" class=\"dataframe\">\n",
       "  <thead>\n",
       "    <tr style=\"text-align: right;\">\n",
       "      <th></th>\n",
       "      <th>Airline</th>\n",
       "      <th>Source</th>\n",
       "      <th>Destination</th>\n",
       "      <th>Route</th>\n",
       "      <th>Dep_Time</th>\n",
       "      <th>Duration</th>\n",
       "      <th>Total_Stops</th>\n",
       "      <th>Additional_Info</th>\n",
       "      <th>Price</th>\n",
       "      <th>Date</th>\n",
       "      <th>Month</th>\n",
       "      <th>Year</th>\n",
       "      <th>Arrival_hour</th>\n",
       "      <th>Arrival_min</th>\n",
       "      <th>Departure_Hour</th>\n",
       "      <th>Departure_min</th>\n",
       "    </tr>\n",
       "  </thead>\n",
       "  <tbody>\n",
       "    <tr>\n",
       "      <th>0</th>\n",
       "      <td>IndiGo</td>\n",
       "      <td>Banglore</td>\n",
       "      <td>New Delhi</td>\n",
       "      <td>BLR → DEL</td>\n",
       "      <td>22:20</td>\n",
       "      <td>2h 50m</td>\n",
       "      <td>non-stop</td>\n",
       "      <td>No info</td>\n",
       "      <td>3897.0</td>\n",
       "      <td>24</td>\n",
       "      <td>3</td>\n",
       "      <td>2019</td>\n",
       "      <td>1</td>\n",
       "      <td>10</td>\n",
       "      <td>22</td>\n",
       "      <td>20</td>\n",
       "    </tr>\n",
       "  </tbody>\n",
       "</table>\n",
       "</div>"
      ],
      "text/plain": [
       "  Airline    Source Destination      Route Dep_Time Duration Total_Stops  \\\n",
       "0  IndiGo  Banglore   New Delhi  BLR → DEL    22:20   2h 50m    non-stop   \n",
       "\n",
       "  Additional_Info   Price  Date  Month  Year  Arrival_hour  Arrival_min  \\\n",
       "0         No info  3897.0    24      3  2019             1           10   \n",
       "\n",
       "  Departure_Hour Departure_min  \n",
       "0             22            20  "
      ]
     },
     "execution_count": 25,
     "metadata": {},
     "output_type": "execute_result"
    }
   ],
   "source": [
    "final_df.head(1)"
   ]
  },
  {
   "cell_type": "code",
   "execution_count": 26,
   "id": "92471679",
   "metadata": {
    "execution": {
     "iopub.execute_input": "2022-07-06T11:14:34.093093Z",
     "iopub.status.busy": "2022-07-06T11:14:34.092689Z",
     "iopub.status.idle": "2022-07-06T11:14:34.102902Z",
     "shell.execute_reply": "2022-07-06T11:14:34.101838Z"
    },
    "papermill": {
     "duration": 0.027894,
     "end_time": "2022-07-06T11:14:34.104960",
     "exception": false,
     "start_time": "2022-07-06T11:14:34.077066",
     "status": "completed"
    },
    "tags": []
   },
   "outputs": [],
   "source": [
    "#changing the object type into int\n",
    "final_df['Departure_Hour'] = final_df['Departure_Hour'].astype(int)\n",
    "final_df['Departure_min'] = final_df['Departure_min'].astype(int)"
   ]
  },
  {
   "cell_type": "code",
   "execution_count": 27,
   "id": "e5e95517",
   "metadata": {
    "execution": {
     "iopub.execute_input": "2022-07-06T11:14:34.134763Z",
     "iopub.status.busy": "2022-07-06T11:14:34.134045Z",
     "iopub.status.idle": "2022-07-06T11:14:34.153868Z",
     "shell.execute_reply": "2022-07-06T11:14:34.152743Z"
    },
    "papermill": {
     "duration": 0.037325,
     "end_time": "2022-07-06T11:14:34.156420",
     "exception": false,
     "start_time": "2022-07-06T11:14:34.119095",
     "status": "completed"
    },
    "tags": []
   },
   "outputs": [
    {
     "name": "stdout",
     "output_type": "stream",
     "text": [
      "<class 'pandas.core.frame.DataFrame'>\n",
      "Int64Index: 13354 entries, 0 to 2670\n",
      "Data columns (total 16 columns):\n",
      " #   Column           Non-Null Count  Dtype  \n",
      "---  ------           --------------  -----  \n",
      " 0   Airline          13354 non-null  object \n",
      " 1   Source           13354 non-null  object \n",
      " 2   Destination      13354 non-null  object \n",
      " 3   Route            13353 non-null  object \n",
      " 4   Dep_Time         13354 non-null  object \n",
      " 5   Duration         13354 non-null  object \n",
      " 6   Total_Stops      13353 non-null  object \n",
      " 7   Additional_Info  13354 non-null  object \n",
      " 8   Price            10683 non-null  float64\n",
      " 9   Date             13354 non-null  int64  \n",
      " 10  Month            13354 non-null  int64  \n",
      " 11  Year             13354 non-null  int64  \n",
      " 12  Arrival_hour     13354 non-null  int64  \n",
      " 13  Arrival_min      13354 non-null  int64  \n",
      " 14  Departure_Hour   13354 non-null  int64  \n",
      " 15  Departure_min    13354 non-null  int64  \n",
      "dtypes: float64(1), int64(7), object(8)\n",
      "memory usage: 1.7+ MB\n"
     ]
    }
   ],
   "source": [
    "final_df.info()"
   ]
  },
  {
   "cell_type": "code",
   "execution_count": 28,
   "id": "ee742326",
   "metadata": {
    "execution": {
     "iopub.execute_input": "2022-07-06T11:14:34.186468Z",
     "iopub.status.busy": "2022-07-06T11:14:34.185332Z",
     "iopub.status.idle": "2022-07-06T11:14:34.194360Z",
     "shell.execute_reply": "2022-07-06T11:14:34.193398Z"
    },
    "papermill": {
     "duration": 0.026467,
     "end_time": "2022-07-06T11:14:34.196802",
     "exception": false,
     "start_time": "2022-07-06T11:14:34.170335",
     "status": "completed"
    },
    "tags": []
   },
   "outputs": [],
   "source": [
    "##dropping the departure time\n",
    "final_df.drop('Dep_Time',axis=1,inplace=True)"
   ]
  },
  {
   "cell_type": "code",
   "execution_count": 29,
   "id": "ed9c09b3",
   "metadata": {
    "execution": {
     "iopub.execute_input": "2022-07-06T11:14:34.227811Z",
     "iopub.status.busy": "2022-07-06T11:14:34.226757Z",
     "iopub.status.idle": "2022-07-06T11:14:34.244046Z",
     "shell.execute_reply": "2022-07-06T11:14:34.242848Z"
    },
    "papermill": {
     "duration": 0.03559,
     "end_time": "2022-07-06T11:14:34.246918",
     "exception": false,
     "start_time": "2022-07-06T11:14:34.211328",
     "status": "completed"
    },
    "tags": []
   },
   "outputs": [
    {
     "name": "stdout",
     "output_type": "stream",
     "text": [
      "<class 'pandas.core.frame.DataFrame'>\n",
      "Int64Index: 13354 entries, 0 to 2670\n",
      "Data columns (total 15 columns):\n",
      " #   Column           Non-Null Count  Dtype  \n",
      "---  ------           --------------  -----  \n",
      " 0   Airline          13354 non-null  object \n",
      " 1   Source           13354 non-null  object \n",
      " 2   Destination      13354 non-null  object \n",
      " 3   Route            13353 non-null  object \n",
      " 4   Duration         13354 non-null  object \n",
      " 5   Total_Stops      13353 non-null  object \n",
      " 6   Additional_Info  13354 non-null  object \n",
      " 7   Price            10683 non-null  float64\n",
      " 8   Date             13354 non-null  int64  \n",
      " 9   Month            13354 non-null  int64  \n",
      " 10  Year             13354 non-null  int64  \n",
      " 11  Arrival_hour     13354 non-null  int64  \n",
      " 12  Arrival_min      13354 non-null  int64  \n",
      " 13  Departure_Hour   13354 non-null  int64  \n",
      " 14  Departure_min    13354 non-null  int64  \n",
      "dtypes: float64(1), int64(7), object(7)\n",
      "memory usage: 1.6+ MB\n"
     ]
    }
   ],
   "source": [
    "final_df.info()"
   ]
  },
  {
   "cell_type": "code",
   "execution_count": 30,
   "id": "94198dd0",
   "metadata": {
    "execution": {
     "iopub.execute_input": "2022-07-06T11:14:34.276354Z",
     "iopub.status.busy": "2022-07-06T11:14:34.275988Z",
     "iopub.status.idle": "2022-07-06T11:14:34.283464Z",
     "shell.execute_reply": "2022-07-06T11:14:34.282253Z"
    },
    "papermill": {
     "duration": 0.024826,
     "end_time": "2022-07-06T11:14:34.285664",
     "exception": false,
     "start_time": "2022-07-06T11:14:34.260838",
     "status": "completed"
    },
    "tags": []
   },
   "outputs": [
    {
     "data": {
      "text/plain": [
       "array(['non-stop', '2 stops', '1 stop', '3 stops', nan, '4 stops'],\n",
       "      dtype=object)"
      ]
     },
     "execution_count": 30,
     "metadata": {},
     "output_type": "execute_result"
    }
   ],
   "source": [
    "final_df['Total_Stops'].unique()#It shows the unique data of this column"
   ]
  },
  {
   "cell_type": "code",
   "execution_count": 31,
   "id": "264e8c30",
   "metadata": {
    "execution": {
     "iopub.execute_input": "2022-07-06T11:14:34.315433Z",
     "iopub.status.busy": "2022-07-06T11:14:34.315078Z",
     "iopub.status.idle": "2022-07-06T11:14:34.323080Z",
     "shell.execute_reply": "2022-07-06T11:14:34.322287Z"
    },
    "papermill": {
     "duration": 0.025183,
     "end_time": "2022-07-06T11:14:34.325027",
     "exception": false,
     "start_time": "2022-07-06T11:14:34.299844",
     "status": "completed"
    },
    "tags": []
   },
   "outputs": [],
   "source": [
    "#encoding with the help of map function for total stops column\n",
    "final_df['Total_Stops'] = final_df['Total_Stops'].map({'non-stop':0,'2 stops':2,'1 stop':1,'3 stops':3,'4 stops':4})"
   ]
  },
  {
   "cell_type": "code",
   "execution_count": 32,
   "id": "cf0267d2",
   "metadata": {
    "execution": {
     "iopub.execute_input": "2022-07-06T11:14:34.354740Z",
     "iopub.status.busy": "2022-07-06T11:14:34.354285Z",
     "iopub.status.idle": "2022-07-06T11:14:34.363994Z",
     "shell.execute_reply": "2022-07-06T11:14:34.362964Z"
    },
    "papermill": {
     "duration": 0.026913,
     "end_time": "2022-07-06T11:14:34.365946",
     "exception": false,
     "start_time": "2022-07-06T11:14:34.339033",
     "status": "completed"
    },
    "tags": []
   },
   "outputs": [
    {
     "data": {
      "text/plain": [
       "array([ 0.,  2.,  1.,  3., nan,  4.])"
      ]
     },
     "execution_count": 32,
     "metadata": {},
     "output_type": "execute_result"
    }
   ],
   "source": [
    "final_df['Total_Stops'].unique()#It shows the unique data after mapping"
   ]
  },
  {
   "cell_type": "code",
   "execution_count": 33,
   "id": "366ffa4f",
   "metadata": {
    "execution": {
     "iopub.execute_input": "2022-07-06T11:14:34.396331Z",
     "iopub.status.busy": "2022-07-06T11:14:34.395189Z",
     "iopub.status.idle": "2022-07-06T11:14:34.402983Z",
     "shell.execute_reply": "2022-07-06T11:14:34.402134Z"
    },
    "papermill": {
     "duration": 0.024726,
     "end_time": "2022-07-06T11:14:34.404847",
     "exception": false,
     "start_time": "2022-07-06T11:14:34.380121",
     "status": "completed"
    },
    "tags": []
   },
   "outputs": [
    {
     "data": {
      "text/plain": [
       "Int64Index([9039], dtype='int64')"
      ]
     },
     "execution_count": 33,
     "metadata": {},
     "output_type": "execute_result"
    }
   ],
   "source": [
    "#null row index\n",
    "null_row_index = final_df[final_df['Total_Stops'].isnull()].index\n",
    "null_row_index"
   ]
  },
  {
   "cell_type": "code",
   "execution_count": 34,
   "id": "366eeaa9",
   "metadata": {
    "execution": {
     "iopub.execute_input": "2022-07-06T11:14:34.435876Z",
     "iopub.status.busy": "2022-07-06T11:14:34.434701Z",
     "iopub.status.idle": "2022-07-06T11:14:34.447335Z",
     "shell.execute_reply": "2022-07-06T11:14:34.446446Z"
    },
    "papermill": {
     "duration": 0.030437,
     "end_time": "2022-07-06T11:14:34.449599",
     "exception": false,
     "start_time": "2022-07-06T11:14:34.419162",
     "status": "completed"
    },
    "tags": []
   },
   "outputs": [],
   "source": [
    "final_df.drop(null_row_index,axis=0,inplace=True)#dropping the null row index"
   ]
  },
  {
   "cell_type": "code",
   "execution_count": 35,
   "id": "089e12d9",
   "metadata": {
    "execution": {
     "iopub.execute_input": "2022-07-06T11:14:34.480420Z",
     "iopub.status.busy": "2022-07-06T11:14:34.479313Z",
     "iopub.status.idle": "2022-07-06T11:14:34.485751Z",
     "shell.execute_reply": "2022-07-06T11:14:34.484530Z"
    },
    "papermill": {
     "duration": 0.024003,
     "end_time": "2022-07-06T11:14:34.487822",
     "exception": false,
     "start_time": "2022-07-06T11:14:34.463819",
     "status": "completed"
    },
    "tags": []
   },
   "outputs": [
    {
     "data": {
      "text/plain": [
       "(13353, 15)"
      ]
     },
     "execution_count": 35,
     "metadata": {},
     "output_type": "execute_result"
    }
   ],
   "source": [
    "final_df.shape#It shows the number of records and fields"
   ]
  },
  {
   "cell_type": "code",
   "execution_count": 36,
   "id": "2ac8508d",
   "metadata": {
    "execution": {
     "iopub.execute_input": "2022-07-06T11:14:34.519487Z",
     "iopub.status.busy": "2022-07-06T11:14:34.519103Z",
     "iopub.status.idle": "2022-07-06T11:14:34.536039Z",
     "shell.execute_reply": "2022-07-06T11:14:34.534928Z"
    },
    "papermill": {
     "duration": 0.035516,
     "end_time": "2022-07-06T11:14:34.538130",
     "exception": false,
     "start_time": "2022-07-06T11:14:34.502614",
     "status": "completed"
    },
    "tags": []
   },
   "outputs": [
    {
     "data": {
      "text/html": [
       "<div>\n",
       "<style scoped>\n",
       "    .dataframe tbody tr th:only-of-type {\n",
       "        vertical-align: middle;\n",
       "    }\n",
       "\n",
       "    .dataframe tbody tr th {\n",
       "        vertical-align: top;\n",
       "    }\n",
       "\n",
       "    .dataframe thead th {\n",
       "        text-align: right;\n",
       "    }\n",
       "</style>\n",
       "<table border=\"1\" class=\"dataframe\">\n",
       "  <thead>\n",
       "    <tr style=\"text-align: right;\">\n",
       "      <th></th>\n",
       "      <th>Airline</th>\n",
       "      <th>Source</th>\n",
       "      <th>Destination</th>\n",
       "      <th>Route</th>\n",
       "      <th>Duration</th>\n",
       "      <th>Total_Stops</th>\n",
       "      <th>Additional_Info</th>\n",
       "      <th>Price</th>\n",
       "      <th>Date</th>\n",
       "      <th>Month</th>\n",
       "      <th>Year</th>\n",
       "      <th>Arrival_hour</th>\n",
       "      <th>Arrival_min</th>\n",
       "      <th>Departure_Hour</th>\n",
       "      <th>Departure_min</th>\n",
       "    </tr>\n",
       "  </thead>\n",
       "  <tbody>\n",
       "    <tr>\n",
       "      <th>0</th>\n",
       "      <td>IndiGo</td>\n",
       "      <td>Banglore</td>\n",
       "      <td>New Delhi</td>\n",
       "      <td>BLR → DEL</td>\n",
       "      <td>2h 50m</td>\n",
       "      <td>0.0</td>\n",
       "      <td>No info</td>\n",
       "      <td>3897.0</td>\n",
       "      <td>24</td>\n",
       "      <td>3</td>\n",
       "      <td>2019</td>\n",
       "      <td>1</td>\n",
       "      <td>10</td>\n",
       "      <td>22</td>\n",
       "      <td>20</td>\n",
       "    </tr>\n",
       "    <tr>\n",
       "      <th>1</th>\n",
       "      <td>Air India</td>\n",
       "      <td>Kolkata</td>\n",
       "      <td>Banglore</td>\n",
       "      <td>CCU → IXR → BBI → BLR</td>\n",
       "      <td>7h 25m</td>\n",
       "      <td>2.0</td>\n",
       "      <td>No info</td>\n",
       "      <td>7662.0</td>\n",
       "      <td>1</td>\n",
       "      <td>5</td>\n",
       "      <td>2019</td>\n",
       "      <td>13</td>\n",
       "      <td>15</td>\n",
       "      <td>5</td>\n",
       "      <td>50</td>\n",
       "    </tr>\n",
       "    <tr>\n",
       "      <th>2</th>\n",
       "      <td>Jet Airways</td>\n",
       "      <td>Delhi</td>\n",
       "      <td>Cochin</td>\n",
       "      <td>DEL → LKO → BOM → COK</td>\n",
       "      <td>19h</td>\n",
       "      <td>2.0</td>\n",
       "      <td>No info</td>\n",
       "      <td>13882.0</td>\n",
       "      <td>9</td>\n",
       "      <td>6</td>\n",
       "      <td>2019</td>\n",
       "      <td>4</td>\n",
       "      <td>25</td>\n",
       "      <td>9</td>\n",
       "      <td>25</td>\n",
       "    </tr>\n",
       "    <tr>\n",
       "      <th>3</th>\n",
       "      <td>IndiGo</td>\n",
       "      <td>Kolkata</td>\n",
       "      <td>Banglore</td>\n",
       "      <td>CCU → NAG → BLR</td>\n",
       "      <td>5h 25m</td>\n",
       "      <td>1.0</td>\n",
       "      <td>No info</td>\n",
       "      <td>6218.0</td>\n",
       "      <td>12</td>\n",
       "      <td>5</td>\n",
       "      <td>2019</td>\n",
       "      <td>23</td>\n",
       "      <td>30</td>\n",
       "      <td>18</td>\n",
       "      <td>5</td>\n",
       "    </tr>\n",
       "    <tr>\n",
       "      <th>4</th>\n",
       "      <td>IndiGo</td>\n",
       "      <td>Banglore</td>\n",
       "      <td>New Delhi</td>\n",
       "      <td>BLR → NAG → DEL</td>\n",
       "      <td>4h 45m</td>\n",
       "      <td>1.0</td>\n",
       "      <td>No info</td>\n",
       "      <td>13302.0</td>\n",
       "      <td>1</td>\n",
       "      <td>3</td>\n",
       "      <td>2019</td>\n",
       "      <td>21</td>\n",
       "      <td>35</td>\n",
       "      <td>16</td>\n",
       "      <td>50</td>\n",
       "    </tr>\n",
       "  </tbody>\n",
       "</table>\n",
       "</div>"
      ],
      "text/plain": [
       "       Airline    Source Destination                  Route Duration  \\\n",
       "0       IndiGo  Banglore   New Delhi              BLR → DEL   2h 50m   \n",
       "1    Air India   Kolkata    Banglore  CCU → IXR → BBI → BLR   7h 25m   \n",
       "2  Jet Airways     Delhi      Cochin  DEL → LKO → BOM → COK      19h   \n",
       "3       IndiGo   Kolkata    Banglore        CCU → NAG → BLR   5h 25m   \n",
       "4       IndiGo  Banglore   New Delhi        BLR → NAG → DEL   4h 45m   \n",
       "\n",
       "   Total_Stops Additional_Info    Price  Date  Month  Year  Arrival_hour  \\\n",
       "0          0.0         No info   3897.0    24      3  2019             1   \n",
       "1          2.0         No info   7662.0     1      5  2019            13   \n",
       "2          2.0         No info  13882.0     9      6  2019             4   \n",
       "3          1.0         No info   6218.0    12      5  2019            23   \n",
       "4          1.0         No info  13302.0     1      3  2019            21   \n",
       "\n",
       "   Arrival_min  Departure_Hour  Departure_min  \n",
       "0           10              22             20  \n",
       "1           15               5             50  \n",
       "2           25               9             25  \n",
       "3           30              18              5  \n",
       "4           35              16             50  "
      ]
     },
     "execution_count": 36,
     "metadata": {},
     "output_type": "execute_result"
    }
   ],
   "source": [
    "final_df.head()"
   ]
  },
  {
   "cell_type": "code",
   "execution_count": 37,
   "id": "ca5df4bb",
   "metadata": {
    "execution": {
     "iopub.execute_input": "2022-07-06T11:14:34.568778Z",
     "iopub.status.busy": "2022-07-06T11:14:34.568385Z",
     "iopub.status.idle": "2022-07-06T11:14:34.584453Z",
     "shell.execute_reply": "2022-07-06T11:14:34.582924Z"
    },
    "papermill": {
     "duration": 0.034319,
     "end_time": "2022-07-06T11:14:34.587064",
     "exception": false,
     "start_time": "2022-07-06T11:14:34.552745",
     "status": "completed"
    },
    "tags": []
   },
   "outputs": [
    {
     "name": "stdout",
     "output_type": "stream",
     "text": [
      "<class 'pandas.core.frame.DataFrame'>\n",
      "Int64Index: 13353 entries, 0 to 2670\n",
      "Data columns (total 15 columns):\n",
      " #   Column           Non-Null Count  Dtype  \n",
      "---  ------           --------------  -----  \n",
      " 0   Airline          13353 non-null  object \n",
      " 1   Source           13353 non-null  object \n",
      " 2   Destination      13353 non-null  object \n",
      " 3   Route            13353 non-null  object \n",
      " 4   Duration         13353 non-null  object \n",
      " 5   Total_Stops      13353 non-null  float64\n",
      " 6   Additional_Info  13353 non-null  object \n",
      " 7   Price            10682 non-null  float64\n",
      " 8   Date             13353 non-null  int64  \n",
      " 9   Month            13353 non-null  int64  \n",
      " 10  Year             13353 non-null  int64  \n",
      " 11  Arrival_hour     13353 non-null  int64  \n",
      " 12  Arrival_min      13353 non-null  int64  \n",
      " 13  Departure_Hour   13353 non-null  int64  \n",
      " 14  Departure_min    13353 non-null  int64  \n",
      "dtypes: float64(2), int64(7), object(6)\n",
      "memory usage: 1.6+ MB\n"
     ]
    }
   ],
   "source": [
    "final_df.info()"
   ]
  },
  {
   "cell_type": "code",
   "execution_count": 38,
   "id": "93c7ba19",
   "metadata": {
    "execution": {
     "iopub.execute_input": "2022-07-06T11:14:34.618307Z",
     "iopub.status.busy": "2022-07-06T11:14:34.617230Z",
     "iopub.status.idle": "2022-07-06T11:14:34.623895Z",
     "shell.execute_reply": "2022-07-06T11:14:34.622692Z"
    },
    "papermill": {
     "duration": 0.024132,
     "end_time": "2022-07-06T11:14:34.625851",
     "exception": false,
     "start_time": "2022-07-06T11:14:34.601719",
     "status": "completed"
    },
    "tags": []
   },
   "outputs": [
    {
     "data": {
      "text/plain": [
       "' def duration_to_min(s):\\n    if \\'m\\' not in s:\\n        s = s.split(\\'h\\')\\n        duration = int(s[0])*60\\n        return duration\\n    s = s.replace(\\'m\\',\"\")\\n    s = s.split(\\'h\\')\\n    duration = (60*int(s[0])+int(s[1]))\\n    return duration'"
      ]
     },
     "execution_count": 38,
     "metadata": {},
     "output_type": "execute_result"
    }
   ],
   "source": [
    "#creating the function for duration column into minutes\n",
    "''' def duration_to_min(s):\n",
    "    if 'm' not in s:\n",
    "        s = s.split('h')\n",
    "        duration = int(s[0])*60\n",
    "        return duration\n",
    "    s = s.replace('m',\"\")\n",
    "    s = s.split('h')\n",
    "    duration = (60*int(s[0])+int(s[1]))\n",
    "    return duration'''"
   ]
  },
  {
   "cell_type": "code",
   "execution_count": 39,
   "id": "364c23cb",
   "metadata": {
    "execution": {
     "iopub.execute_input": "2022-07-06T11:14:34.656880Z",
     "iopub.status.busy": "2022-07-06T11:14:34.656431Z",
     "iopub.status.idle": "2022-07-06T11:14:34.662648Z",
     "shell.execute_reply": "2022-07-06T11:14:34.661561Z"
    },
    "papermill": {
     "duration": 0.024108,
     "end_time": "2022-07-06T11:14:34.664602",
     "exception": false,
     "start_time": "2022-07-06T11:14:34.640494",
     "status": "completed"
    },
    "tags": []
   },
   "outputs": [],
   "source": [
    "def duration_to_min(s):\n",
    "    if 'm' not in s:\n",
    "        s = s.split('h')\n",
    "        duration = int(s[0])*60\n",
    "        return duration\n",
    "    s = s.replace('m',\"\").replace('h',\"\")\n",
    "    s = s.split()\n",
    "    duration = (60*int(s[0])+int(s[1]))\n",
    "    return duration"
   ]
  },
  {
   "cell_type": "code",
   "execution_count": 40,
   "id": "4e63a9a9",
   "metadata": {
    "execution": {
     "iopub.execute_input": "2022-07-06T11:14:34.695302Z",
     "iopub.status.busy": "2022-07-06T11:14:34.694923Z",
     "iopub.status.idle": "2022-07-06T11:14:34.703342Z",
     "shell.execute_reply": "2022-07-06T11:14:34.702348Z"
    },
    "papermill": {
     "duration": 0.02633,
     "end_time": "2022-07-06T11:14:34.705473",
     "exception": false,
     "start_time": "2022-07-06T11:14:34.679143",
     "status": "completed"
    },
    "tags": []
   },
   "outputs": [
    {
     "data": {
      "text/plain": [
       "Int64Index([6474, 2660], dtype='int64')"
      ]
     },
     "execution_count": 40,
     "metadata": {},
     "output_type": "execute_result"
    }
   ],
   "source": [
    "error_5m = final_df[final_df['Duration'] =='5m'].index\n",
    "error_5m"
   ]
  },
  {
   "cell_type": "code",
   "execution_count": 41,
   "id": "f8d3f67f",
   "metadata": {
    "execution": {
     "iopub.execute_input": "2022-07-06T11:14:34.736421Z",
     "iopub.status.busy": "2022-07-06T11:14:34.736039Z",
     "iopub.status.idle": "2022-07-06T11:14:34.745331Z",
     "shell.execute_reply": "2022-07-06T11:14:34.744212Z"
    },
    "papermill": {
     "duration": 0.027375,
     "end_time": "2022-07-06T11:14:34.747545",
     "exception": false,
     "start_time": "2022-07-06T11:14:34.720170",
     "status": "completed"
    },
    "tags": []
   },
   "outputs": [],
   "source": [
    "#dropping the '5m' \n",
    "final_df.drop(error_5m,axis=0,inplace=True)"
   ]
  },
  {
   "cell_type": "code",
   "execution_count": 42,
   "id": "50cb71c9",
   "metadata": {
    "execution": {
     "iopub.execute_input": "2022-07-06T11:14:34.778500Z",
     "iopub.status.busy": "2022-07-06T11:14:34.778103Z",
     "iopub.status.idle": "2022-07-06T11:14:34.801571Z",
     "shell.execute_reply": "2022-07-06T11:14:34.800441Z"
    },
    "papermill": {
     "duration": 0.041746,
     "end_time": "2022-07-06T11:14:34.804065",
     "exception": false,
     "start_time": "2022-07-06T11:14:34.762319",
     "status": "completed"
    },
    "tags": []
   },
   "outputs": [],
   "source": [
    "#applying that function using apply function\n",
    "final_df['Duration'] = final_df.Duration.apply(duration_to_min)"
   ]
  },
  {
   "cell_type": "code",
   "execution_count": 43,
   "id": "6b4f6b93",
   "metadata": {
    "execution": {
     "iopub.execute_input": "2022-07-06T11:14:34.836309Z",
     "iopub.status.busy": "2022-07-06T11:14:34.835640Z",
     "iopub.status.idle": "2022-07-06T11:14:34.852048Z",
     "shell.execute_reply": "2022-07-06T11:14:34.850805Z"
    },
    "papermill": {
     "duration": 0.035431,
     "end_time": "2022-07-06T11:14:34.854246",
     "exception": false,
     "start_time": "2022-07-06T11:14:34.818815",
     "status": "completed"
    },
    "tags": []
   },
   "outputs": [
    {
     "name": "stdout",
     "output_type": "stream",
     "text": [
      "<class 'pandas.core.frame.DataFrame'>\n",
      "Int64Index: 13350 entries, 0 to 2670\n",
      "Data columns (total 15 columns):\n",
      " #   Column           Non-Null Count  Dtype  \n",
      "---  ------           --------------  -----  \n",
      " 0   Airline          13350 non-null  object \n",
      " 1   Source           13350 non-null  object \n",
      " 2   Destination      13350 non-null  object \n",
      " 3   Route            13350 non-null  object \n",
      " 4   Duration         13350 non-null  int64  \n",
      " 5   Total_Stops      13350 non-null  float64\n",
      " 6   Additional_Info  13350 non-null  object \n",
      " 7   Price            10680 non-null  float64\n",
      " 8   Date             13350 non-null  int64  \n",
      " 9   Month            13350 non-null  int64  \n",
      " 10  Year             13350 non-null  int64  \n",
      " 11  Arrival_hour     13350 non-null  int64  \n",
      " 12  Arrival_min      13350 non-null  int64  \n",
      " 13  Departure_Hour   13350 non-null  int64  \n",
      " 14  Departure_min    13350 non-null  int64  \n",
      "dtypes: float64(2), int64(8), object(5)\n",
      "memory usage: 1.6+ MB\n"
     ]
    }
   ],
   "source": [
    "final_df.info()#It shows the info of the data types"
   ]
  },
  {
   "cell_type": "code",
   "execution_count": 44,
   "id": "f80cb425",
   "metadata": {
    "execution": {
     "iopub.execute_input": "2022-07-06T11:14:34.886168Z",
     "iopub.status.busy": "2022-07-06T11:14:34.885056Z",
     "iopub.status.idle": "2022-07-06T11:14:34.902258Z",
     "shell.execute_reply": "2022-07-06T11:14:34.901128Z"
    },
    "papermill": {
     "duration": 0.035574,
     "end_time": "2022-07-06T11:14:34.904374",
     "exception": false,
     "start_time": "2022-07-06T11:14:34.868800",
     "status": "completed"
    },
    "tags": []
   },
   "outputs": [
    {
     "data": {
      "text/html": [
       "<div>\n",
       "<style scoped>\n",
       "    .dataframe tbody tr th:only-of-type {\n",
       "        vertical-align: middle;\n",
       "    }\n",
       "\n",
       "    .dataframe tbody tr th {\n",
       "        vertical-align: top;\n",
       "    }\n",
       "\n",
       "    .dataframe thead th {\n",
       "        text-align: right;\n",
       "    }\n",
       "</style>\n",
       "<table border=\"1\" class=\"dataframe\">\n",
       "  <thead>\n",
       "    <tr style=\"text-align: right;\">\n",
       "      <th></th>\n",
       "      <th>Airline</th>\n",
       "      <th>Source</th>\n",
       "      <th>Destination</th>\n",
       "      <th>Route</th>\n",
       "      <th>Duration</th>\n",
       "      <th>Total_Stops</th>\n",
       "      <th>Additional_Info</th>\n",
       "      <th>Price</th>\n",
       "      <th>Date</th>\n",
       "      <th>Month</th>\n",
       "      <th>Year</th>\n",
       "      <th>Arrival_hour</th>\n",
       "      <th>Arrival_min</th>\n",
       "      <th>Departure_Hour</th>\n",
       "      <th>Departure_min</th>\n",
       "    </tr>\n",
       "  </thead>\n",
       "  <tbody>\n",
       "    <tr>\n",
       "      <th>0</th>\n",
       "      <td>IndiGo</td>\n",
       "      <td>Banglore</td>\n",
       "      <td>New Delhi</td>\n",
       "      <td>BLR → DEL</td>\n",
       "      <td>170</td>\n",
       "      <td>0.0</td>\n",
       "      <td>No info</td>\n",
       "      <td>3897.0</td>\n",
       "      <td>24</td>\n",
       "      <td>3</td>\n",
       "      <td>2019</td>\n",
       "      <td>1</td>\n",
       "      <td>10</td>\n",
       "      <td>22</td>\n",
       "      <td>20</td>\n",
       "    </tr>\n",
       "    <tr>\n",
       "      <th>1</th>\n",
       "      <td>Air India</td>\n",
       "      <td>Kolkata</td>\n",
       "      <td>Banglore</td>\n",
       "      <td>CCU → IXR → BBI → BLR</td>\n",
       "      <td>445</td>\n",
       "      <td>2.0</td>\n",
       "      <td>No info</td>\n",
       "      <td>7662.0</td>\n",
       "      <td>1</td>\n",
       "      <td>5</td>\n",
       "      <td>2019</td>\n",
       "      <td>13</td>\n",
       "      <td>15</td>\n",
       "      <td>5</td>\n",
       "      <td>50</td>\n",
       "    </tr>\n",
       "    <tr>\n",
       "      <th>2</th>\n",
       "      <td>Jet Airways</td>\n",
       "      <td>Delhi</td>\n",
       "      <td>Cochin</td>\n",
       "      <td>DEL → LKO → BOM → COK</td>\n",
       "      <td>1140</td>\n",
       "      <td>2.0</td>\n",
       "      <td>No info</td>\n",
       "      <td>13882.0</td>\n",
       "      <td>9</td>\n",
       "      <td>6</td>\n",
       "      <td>2019</td>\n",
       "      <td>4</td>\n",
       "      <td>25</td>\n",
       "      <td>9</td>\n",
       "      <td>25</td>\n",
       "    </tr>\n",
       "    <tr>\n",
       "      <th>3</th>\n",
       "      <td>IndiGo</td>\n",
       "      <td>Kolkata</td>\n",
       "      <td>Banglore</td>\n",
       "      <td>CCU → NAG → BLR</td>\n",
       "      <td>325</td>\n",
       "      <td>1.0</td>\n",
       "      <td>No info</td>\n",
       "      <td>6218.0</td>\n",
       "      <td>12</td>\n",
       "      <td>5</td>\n",
       "      <td>2019</td>\n",
       "      <td>23</td>\n",
       "      <td>30</td>\n",
       "      <td>18</td>\n",
       "      <td>5</td>\n",
       "    </tr>\n",
       "    <tr>\n",
       "      <th>4</th>\n",
       "      <td>IndiGo</td>\n",
       "      <td>Banglore</td>\n",
       "      <td>New Delhi</td>\n",
       "      <td>BLR → NAG → DEL</td>\n",
       "      <td>285</td>\n",
       "      <td>1.0</td>\n",
       "      <td>No info</td>\n",
       "      <td>13302.0</td>\n",
       "      <td>1</td>\n",
       "      <td>3</td>\n",
       "      <td>2019</td>\n",
       "      <td>21</td>\n",
       "      <td>35</td>\n",
       "      <td>16</td>\n",
       "      <td>50</td>\n",
       "    </tr>\n",
       "  </tbody>\n",
       "</table>\n",
       "</div>"
      ],
      "text/plain": [
       "       Airline    Source Destination                  Route  Duration  \\\n",
       "0       IndiGo  Banglore   New Delhi              BLR → DEL       170   \n",
       "1    Air India   Kolkata    Banglore  CCU → IXR → BBI → BLR       445   \n",
       "2  Jet Airways     Delhi      Cochin  DEL → LKO → BOM → COK      1140   \n",
       "3       IndiGo   Kolkata    Banglore        CCU → NAG → BLR       325   \n",
       "4       IndiGo  Banglore   New Delhi        BLR → NAG → DEL       285   \n",
       "\n",
       "   Total_Stops Additional_Info    Price  Date  Month  Year  Arrival_hour  \\\n",
       "0          0.0         No info   3897.0    24      3  2019             1   \n",
       "1          2.0         No info   7662.0     1      5  2019            13   \n",
       "2          2.0         No info  13882.0     9      6  2019             4   \n",
       "3          1.0         No info   6218.0    12      5  2019            23   \n",
       "4          1.0         No info  13302.0     1      3  2019            21   \n",
       "\n",
       "   Arrival_min  Departure_Hour  Departure_min  \n",
       "0           10              22             20  \n",
       "1           15               5             50  \n",
       "2           25               9             25  \n",
       "3           30              18              5  \n",
       "4           35              16             50  "
      ]
     },
     "execution_count": 44,
     "metadata": {},
     "output_type": "execute_result"
    }
   ],
   "source": [
    "final_df.head()#It shows the first 5 rows"
   ]
  },
  {
   "cell_type": "code",
   "execution_count": 45,
   "id": "5d3d2ffb",
   "metadata": {
    "execution": {
     "iopub.execute_input": "2022-07-06T11:14:34.936206Z",
     "iopub.status.busy": "2022-07-06T11:14:34.935176Z",
     "iopub.status.idle": "2022-07-06T11:14:34.943005Z",
     "shell.execute_reply": "2022-07-06T11:14:34.942024Z"
    },
    "papermill": {
     "duration": 0.02581,
     "end_time": "2022-07-06T11:14:34.945088",
     "exception": false,
     "start_time": "2022-07-06T11:14:34.919278",
     "status": "completed"
    },
    "tags": []
   },
   "outputs": [
    {
     "data": {
      "text/plain": [
       "array(['IndiGo', 'Air India', 'Jet Airways', 'SpiceJet',\n",
       "       'Multiple carriers', 'GoAir', 'Vistara', 'Air Asia',\n",
       "       'Vistara Premium economy', 'Jet Airways Business',\n",
       "       'Multiple carriers Premium economy', 'Trujet'], dtype=object)"
      ]
     },
     "execution_count": 45,
     "metadata": {},
     "output_type": "execute_result"
    }
   ],
   "source": [
    "final_df['Airline'].unique()#It shows the unique data of the airline"
   ]
  },
  {
   "cell_type": "code",
   "execution_count": 46,
   "id": "8288c02d",
   "metadata": {
    "execution": {
     "iopub.execute_input": "2022-07-06T11:14:34.977326Z",
     "iopub.status.busy": "2022-07-06T11:14:34.976970Z",
     "iopub.status.idle": "2022-07-06T11:14:34.991989Z",
     "shell.execute_reply": "2022-07-06T11:14:34.990858Z"
    },
    "papermill": {
     "duration": 0.033456,
     "end_time": "2022-07-06T11:14:34.994039",
     "exception": false,
     "start_time": "2022-07-06T11:14:34.960583",
     "status": "completed"
    },
    "tags": []
   },
   "outputs": [
    {
     "data": {
      "text/html": [
       "<div>\n",
       "<style scoped>\n",
       "    .dataframe tbody tr th:only-of-type {\n",
       "        vertical-align: middle;\n",
       "    }\n",
       "\n",
       "    .dataframe tbody tr th {\n",
       "        vertical-align: top;\n",
       "    }\n",
       "\n",
       "    .dataframe thead th {\n",
       "        text-align: right;\n",
       "    }\n",
       "</style>\n",
       "<table border=\"1\" class=\"dataframe\">\n",
       "  <thead>\n",
       "    <tr style=\"text-align: right;\">\n",
       "      <th></th>\n",
       "      <th>Airline</th>\n",
       "      <th>Source</th>\n",
       "      <th>Destination</th>\n",
       "      <th>Route</th>\n",
       "      <th>Duration</th>\n",
       "      <th>Total_Stops</th>\n",
       "      <th>Additional_Info</th>\n",
       "      <th>Price</th>\n",
       "      <th>Date</th>\n",
       "      <th>Month</th>\n",
       "      <th>Year</th>\n",
       "      <th>Arrival_hour</th>\n",
       "      <th>Arrival_min</th>\n",
       "      <th>Departure_Hour</th>\n",
       "      <th>Departure_min</th>\n",
       "    </tr>\n",
       "  </thead>\n",
       "  <tbody>\n",
       "    <tr>\n",
       "      <th>0</th>\n",
       "      <td>IndiGo</td>\n",
       "      <td>Banglore</td>\n",
       "      <td>New Delhi</td>\n",
       "      <td>BLR → DEL</td>\n",
       "      <td>170</td>\n",
       "      <td>0.0</td>\n",
       "      <td>No info</td>\n",
       "      <td>3897.0</td>\n",
       "      <td>24</td>\n",
       "      <td>3</td>\n",
       "      <td>2019</td>\n",
       "      <td>1</td>\n",
       "      <td>10</td>\n",
       "      <td>22</td>\n",
       "      <td>20</td>\n",
       "    </tr>\n",
       "    <tr>\n",
       "      <th>1</th>\n",
       "      <td>Air India</td>\n",
       "      <td>Kolkata</td>\n",
       "      <td>Banglore</td>\n",
       "      <td>CCU → IXR → BBI → BLR</td>\n",
       "      <td>445</td>\n",
       "      <td>2.0</td>\n",
       "      <td>No info</td>\n",
       "      <td>7662.0</td>\n",
       "      <td>1</td>\n",
       "      <td>5</td>\n",
       "      <td>2019</td>\n",
       "      <td>13</td>\n",
       "      <td>15</td>\n",
       "      <td>5</td>\n",
       "      <td>50</td>\n",
       "    </tr>\n",
       "  </tbody>\n",
       "</table>\n",
       "</div>"
      ],
      "text/plain": [
       "     Airline    Source Destination                  Route  Duration  \\\n",
       "0     IndiGo  Banglore   New Delhi              BLR → DEL       170   \n",
       "1  Air India   Kolkata    Banglore  CCU → IXR → BBI → BLR       445   \n",
       "\n",
       "   Total_Stops Additional_Info   Price  Date  Month  Year  Arrival_hour  \\\n",
       "0          0.0         No info  3897.0    24      3  2019             1   \n",
       "1          2.0         No info  7662.0     1      5  2019            13   \n",
       "\n",
       "   Arrival_min  Departure_Hour  Departure_min  \n",
       "0           10              22             20  \n",
       "1           15               5             50  "
      ]
     },
     "execution_count": 46,
     "metadata": {},
     "output_type": "execute_result"
    }
   ],
   "source": [
    "final_df.head(2)"
   ]
  },
  {
   "cell_type": "code",
   "execution_count": 47,
   "id": "99bc009a",
   "metadata": {
    "execution": {
     "iopub.execute_input": "2022-07-06T11:14:35.026767Z",
     "iopub.status.busy": "2022-07-06T11:14:35.025683Z",
     "iopub.status.idle": "2022-07-06T11:14:35.037518Z",
     "shell.execute_reply": "2022-07-06T11:14:35.036650Z"
    },
    "papermill": {
     "duration": 0.030597,
     "end_time": "2022-07-06T11:14:35.039856",
     "exception": false,
     "start_time": "2022-07-06T11:14:35.009259",
     "status": "completed"
    },
    "tags": []
   },
   "outputs": [],
   "source": [
    "air_line = pd.DataFrame(final_df.groupby('Airline',as_index=False)['Duration'].sum())\n",
    "sorted_air_line = air_line.sort_values('Duration',ascending=False)"
   ]
  },
  {
   "cell_type": "code",
   "execution_count": 48,
   "id": "508db2a8",
   "metadata": {
    "execution": {
     "iopub.execute_input": "2022-07-06T11:14:35.073303Z",
     "iopub.status.busy": "2022-07-06T11:14:35.072678Z",
     "iopub.status.idle": "2022-07-06T11:14:35.408629Z",
     "shell.execute_reply": "2022-07-06T11:14:35.407443Z"
    },
    "papermill": {
     "duration": 0.355607,
     "end_time": "2022-07-06T11:14:35.410980",
     "exception": false,
     "start_time": "2022-07-06T11:14:35.055373",
     "status": "completed"
    },
    "tags": []
   },
   "outputs": [
    {
     "data": {
      "image/png": "[encoded data removed]",
      "text/plain": [
       "<Figure size 1080x576 with 1 Axes>"
      ]
     },
     "metadata": {
      "needs_background": "light"
     },
     "output_type": "display_data"
    }
   ],
   "source": [
    "plt.figure(figsize=(15,8))\n",
    "s = sns.barplot(x='Airline',y='Duration',data=sorted_air_line)\n",
    "rotate=plt.xticks(rotation=45)#rotating 45 degrees x axis\n",
    "s.set_alpha(0.8)\n",
    "s.set_title('Plot shows the Air line with Duration', fontsize=20)#shows the title of the graph\n",
    "s.set_xlabel('Airline', fontsize=20)#x-axis of the sports\n",
    "s.set_ylabel('Total Duration in Minutes', fontsize=15)#y axis of the number of medals\n",
    "plt.legend(fontsize=10)#shows legend\n",
    "plt.show()#To show plot"
   ]
  },
  {
   "cell_type": "markdown",
   "id": "f5d3cb2f",
   "metadata": {
    "papermill": {
     "duration": 0.016025,
     "end_time": "2022-07-06T11:14:35.443213",
     "exception": false,
     "start_time": "2022-07-06T11:14:35.427188",
     "status": "completed"
    },
    "tags": []
   },
   "source": [
    "## Observation:\n",
    " - Jet Airways Travelled for longer Duration"
   ]
  },
  {
   "cell_type": "code",
   "execution_count": 49,
   "id": "c8b9f99a",
   "metadata": {
    "execution": {
     "iopub.execute_input": "2022-07-06T11:14:35.477323Z",
     "iopub.status.busy": "2022-07-06T11:14:35.476929Z",
     "iopub.status.idle": "2022-07-06T11:14:35.494201Z",
     "shell.execute_reply": "2022-07-06T11:14:35.493103Z"
    },
    "papermill": {
     "duration": 0.036848,
     "end_time": "2022-07-06T11:14:35.496370",
     "exception": false,
     "start_time": "2022-07-06T11:14:35.459522",
     "status": "completed"
    },
    "tags": []
   },
   "outputs": [
    {
     "data": {
      "text/html": [
       "<div>\n",
       "<style scoped>\n",
       "    .dataframe tbody tr th:only-of-type {\n",
       "        vertical-align: middle;\n",
       "    }\n",
       "\n",
       "    .dataframe tbody tr th {\n",
       "        vertical-align: top;\n",
       "    }\n",
       "\n",
       "    .dataframe thead th {\n",
       "        text-align: right;\n",
       "    }\n",
       "</style>\n",
       "<table border=\"1\" class=\"dataframe\">\n",
       "  <thead>\n",
       "    <tr style=\"text-align: right;\">\n",
       "      <th></th>\n",
       "      <th>Airline</th>\n",
       "      <th>Source</th>\n",
       "      <th>Destination</th>\n",
       "      <th>Route</th>\n",
       "      <th>Duration</th>\n",
       "      <th>Total_Stops</th>\n",
       "      <th>Additional_Info</th>\n",
       "      <th>Price</th>\n",
       "      <th>Date</th>\n",
       "      <th>Month</th>\n",
       "      <th>Year</th>\n",
       "      <th>Arrival_hour</th>\n",
       "      <th>Arrival_min</th>\n",
       "      <th>Departure_Hour</th>\n",
       "      <th>Departure_min</th>\n",
       "    </tr>\n",
       "  </thead>\n",
       "  <tbody>\n",
       "    <tr>\n",
       "      <th>0</th>\n",
       "      <td>IndiGo</td>\n",
       "      <td>Banglore</td>\n",
       "      <td>New Delhi</td>\n",
       "      <td>BLR → DEL</td>\n",
       "      <td>170</td>\n",
       "      <td>0.0</td>\n",
       "      <td>No info</td>\n",
       "      <td>3897.0</td>\n",
       "      <td>24</td>\n",
       "      <td>3</td>\n",
       "      <td>2019</td>\n",
       "      <td>1</td>\n",
       "      <td>10</td>\n",
       "      <td>22</td>\n",
       "      <td>20</td>\n",
       "    </tr>\n",
       "    <tr>\n",
       "      <th>1</th>\n",
       "      <td>Air India</td>\n",
       "      <td>Kolkata</td>\n",
       "      <td>Banglore</td>\n",
       "      <td>CCU → IXR → BBI → BLR</td>\n",
       "      <td>445</td>\n",
       "      <td>2.0</td>\n",
       "      <td>No info</td>\n",
       "      <td>7662.0</td>\n",
       "      <td>1</td>\n",
       "      <td>5</td>\n",
       "      <td>2019</td>\n",
       "      <td>13</td>\n",
       "      <td>15</td>\n",
       "      <td>5</td>\n",
       "      <td>50</td>\n",
       "    </tr>\n",
       "    <tr>\n",
       "      <th>2</th>\n",
       "      <td>Jet Airways</td>\n",
       "      <td>Delhi</td>\n",
       "      <td>Cochin</td>\n",
       "      <td>DEL → LKO → BOM → COK</td>\n",
       "      <td>1140</td>\n",
       "      <td>2.0</td>\n",
       "      <td>No info</td>\n",
       "      <td>13882.0</td>\n",
       "      <td>9</td>\n",
       "      <td>6</td>\n",
       "      <td>2019</td>\n",
       "      <td>4</td>\n",
       "      <td>25</td>\n",
       "      <td>9</td>\n",
       "      <td>25</td>\n",
       "    </tr>\n",
       "    <tr>\n",
       "      <th>3</th>\n",
       "      <td>IndiGo</td>\n",
       "      <td>Kolkata</td>\n",
       "      <td>Banglore</td>\n",
       "      <td>CCU → NAG → BLR</td>\n",
       "      <td>325</td>\n",
       "      <td>1.0</td>\n",
       "      <td>No info</td>\n",
       "      <td>6218.0</td>\n",
       "      <td>12</td>\n",
       "      <td>5</td>\n",
       "      <td>2019</td>\n",
       "      <td>23</td>\n",
       "      <td>30</td>\n",
       "      <td>18</td>\n",
       "      <td>5</td>\n",
       "    </tr>\n",
       "    <tr>\n",
       "      <th>4</th>\n",
       "      <td>IndiGo</td>\n",
       "      <td>Banglore</td>\n",
       "      <td>New Delhi</td>\n",
       "      <td>BLR → NAG → DEL</td>\n",
       "      <td>285</td>\n",
       "      <td>1.0</td>\n",
       "      <td>No info</td>\n",
       "      <td>13302.0</td>\n",
       "      <td>1</td>\n",
       "      <td>3</td>\n",
       "      <td>2019</td>\n",
       "      <td>21</td>\n",
       "      <td>35</td>\n",
       "      <td>16</td>\n",
       "      <td>50</td>\n",
       "    </tr>\n",
       "  </tbody>\n",
       "</table>\n",
       "</div>"
      ],
      "text/plain": [
       "       Airline    Source Destination                  Route  Duration  \\\n",
       "0       IndiGo  Banglore   New Delhi              BLR → DEL       170   \n",
       "1    Air India   Kolkata    Banglore  CCU → IXR → BBI → BLR       445   \n",
       "2  Jet Airways     Delhi      Cochin  DEL → LKO → BOM → COK      1140   \n",
       "3       IndiGo   Kolkata    Banglore        CCU → NAG → BLR       325   \n",
       "4       IndiGo  Banglore   New Delhi        BLR → NAG → DEL       285   \n",
       "\n",
       "   Total_Stops Additional_Info    Price  Date  Month  Year  Arrival_hour  \\\n",
       "0          0.0         No info   3897.0    24      3  2019             1   \n",
       "1          2.0         No info   7662.0     1      5  2019            13   \n",
       "2          2.0         No info  13882.0     9      6  2019             4   \n",
       "3          1.0         No info   6218.0    12      5  2019            23   \n",
       "4          1.0         No info  13302.0     1      3  2019            21   \n",
       "\n",
       "   Arrival_min  Departure_Hour  Departure_min  \n",
       "0           10              22             20  \n",
       "1           15               5             50  \n",
       "2           25               9             25  \n",
       "3           30              18              5  \n",
       "4           35              16             50  "
      ]
     },
     "execution_count": 49,
     "metadata": {},
     "output_type": "execute_result"
    }
   ],
   "source": [
    "final_df.head()"
   ]
  },
  {
   "cell_type": "code",
   "execution_count": 50,
   "id": "5e0a73d9",
   "metadata": {
    "execution": {
     "iopub.execute_input": "2022-07-06T11:14:35.530371Z",
     "iopub.status.busy": "2022-07-06T11:14:35.529999Z",
     "iopub.status.idle": "2022-07-06T11:14:35.539261Z",
     "shell.execute_reply": "2022-07-06T11:14:35.538287Z"
    },
    "papermill": {
     "duration": 0.028687,
     "end_time": "2022-07-06T11:14:35.541363",
     "exception": false,
     "start_time": "2022-07-06T11:14:35.512676",
     "status": "completed"
    },
    "tags": []
   },
   "outputs": [],
   "source": [
    "destination_Price = pd.DataFrame(final_df.groupby('Destination',as_index=False)['Price'].sum())\n",
    "sorted_des = destination_Price.sort_values('Price',ascending=False)"
   ]
  },
  {
   "cell_type": "code",
   "execution_count": 51,
   "id": "aa4529ea",
   "metadata": {
    "execution": {
     "iopub.execute_input": "2022-07-06T11:14:35.576925Z",
     "iopub.status.busy": "2022-07-06T11:14:35.576491Z",
     "iopub.status.idle": "2022-07-06T11:14:35.800282Z",
     "shell.execute_reply": "2022-07-06T11:14:35.799132Z"
    },
    "papermill": {
     "duration": 0.244522,
     "end_time": "2022-07-06T11:14:35.802835",
     "exception": false,
     "start_time": "2022-07-06T11:14:35.558313",
     "status": "completed"
    },
    "tags": []
   },
   "outputs": [
    {
     "data": {
      "image/png": "[encoded data removed]",
      "text/plain": [
       "<Figure size 1080x576 with 1 Axes>"
      ]
     },
     "metadata": {
      "needs_background": "light"
     },
     "output_type": "display_data"
    }
   ],
   "source": [
    "plt.figure(figsize=(15,8))\n",
    "s = sns.barplot(x='Destination',y='Price',data=sorted_des)\n",
    "rotate=plt.xticks(rotation=45)#rotating 45 degrees x axis\n",
    "s.set_alpha(0.8)\n",
    "s.set_title('Plot shows the Destination with Price', fontsize=20)#shows the title of the graph\n",
    "s.set_xlabel('Destination', fontsize=20)#x-axis of the sports\n",
    "s.set_ylabel('Total Price', fontsize=15)#y axis of the number of medals\n",
    "plt.legend(fontsize=10)#shows legend\n",
    "plt.show()#To show plot"
   ]
  },
  {
   "cell_type": "markdown",
   "id": "082a1b35",
   "metadata": {
    "papermill": {
     "duration": 0.017797,
     "end_time": "2022-07-06T11:14:35.837305",
     "exception": false,
     "start_time": "2022-07-06T11:14:35.819508",
     "status": "completed"
    },
    "tags": []
   },
   "source": [
    "## Observation:\n",
    " - Cochin has the hightest ticket flare"
   ]
  },
  {
   "cell_type": "code",
   "execution_count": 52,
   "id": "c50fc356",
   "metadata": {
    "execution": {
     "iopub.execute_input": "2022-07-06T11:14:35.874160Z",
     "iopub.status.busy": "2022-07-06T11:14:35.873163Z",
     "iopub.status.idle": "2022-07-06T11:14:35.882590Z",
     "shell.execute_reply": "2022-07-06T11:14:35.881681Z"
    },
    "papermill": {
     "duration": 0.030497,
     "end_time": "2022-07-06T11:14:35.885308",
     "exception": false,
     "start_time": "2022-07-06T11:14:35.854811",
     "status": "completed"
    },
    "tags": []
   },
   "outputs": [],
   "source": [
    "total = pd.DataFrame(final_df.groupby('Total_Stops',as_index=False)['Price'].sum())\n",
    "sorted_price = total.sort_values('Price',ascending=False)"
   ]
  },
  {
   "cell_type": "code",
   "execution_count": 53,
   "id": "7214da0a",
   "metadata": {
    "execution": {
     "iopub.execute_input": "2022-07-06T11:14:35.921731Z",
     "iopub.status.busy": "2022-07-06T11:14:35.920612Z",
     "iopub.status.idle": "2022-07-06T11:14:36.135350Z",
     "shell.execute_reply": "2022-07-06T11:14:36.134176Z"
    },
    "papermill": {
     "duration": 0.235778,
     "end_time": "2022-07-06T11:14:36.137923",
     "exception": false,
     "start_time": "2022-07-06T11:14:35.902145",
     "status": "completed"
    },
    "tags": []
   },
   "outputs": [
    {
     "data": {
      "image/png": "[encoded data removed]",
      "text/plain": [
       "<Figure size 1080x576 with 1 Axes>"
      ]
     },
     "metadata": {
      "needs_background": "light"
     },
     "output_type": "display_data"
    }
   ],
   "source": [
    "plt.figure(figsize=(15,8))\n",
    "s = sns.barplot(x='Total_Stops',y='Price',data=sorted_price)\n",
    "rotate=plt.xticks(rotation=45)#rotating 45 degrees x axis\n",
    "s.set_alpha(0.8)\n",
    "s.set_title('Plot shows the Stops with Price', fontsize=20)#shows the title of the graph\n",
    "s.set_xlabel('Total_Stops', fontsize=20)#x-axis of the sports\n",
    "s.set_ylabel('Total Price', fontsize=15)#y axis of the number of medals\n",
    "plt.legend(fontsize=10)#shows legend\n",
    "plt.show()#To show plot"
   ]
  },
  {
   "cell_type": "markdown",
   "id": "b99d22ab",
   "metadata": {
    "papermill": {
     "duration": 0.016991,
     "end_time": "2022-07-06T11:14:36.172971",
     "exception": false,
     "start_time": "2022-07-06T11:14:36.155980",
     "status": "completed"
    },
    "tags": []
   },
   "source": [
    "## Observation:\n",
    " - Stop 1 has the highest ticket flare"
   ]
  },
  {
   "cell_type": "code",
   "execution_count": 54,
   "id": "0c75a2cb",
   "metadata": {
    "execution": {
     "iopub.execute_input": "2022-07-06T11:14:36.208874Z",
     "iopub.status.busy": "2022-07-06T11:14:36.208185Z",
     "iopub.status.idle": "2022-07-06T11:14:36.459087Z",
     "shell.execute_reply": "2022-07-06T11:14:36.457769Z"
    },
    "papermill": {
     "duration": 0.27183,
     "end_time": "2022-07-06T11:14:36.461731",
     "exception": false,
     "start_time": "2022-07-06T11:14:36.189901",
     "status": "completed"
    },
    "tags": []
   },
   "outputs": [],
   "source": [
    "from sklearn.preprocessing import LabelEncoder\n",
    "labelencoder=LabelEncoder()"
   ]
  },
  {
   "cell_type": "code",
   "execution_count": 55,
   "id": "f743de75",
   "metadata": {
    "execution": {
     "iopub.execute_input": "2022-07-06T11:14:36.498312Z",
     "iopub.status.busy": "2022-07-06T11:14:36.497634Z",
     "iopub.status.idle": "2022-07-06T11:14:36.515422Z",
     "shell.execute_reply": "2022-07-06T11:14:36.514627Z"
    },
    "papermill": {
     "duration": 0.038356,
     "end_time": "2022-07-06T11:14:36.517507",
     "exception": false,
     "start_time": "2022-07-06T11:14:36.479151",
     "status": "completed"
    },
    "tags": []
   },
   "outputs": [],
   "source": [
    "final_df['Airline']=labelencoder.fit_transform(final_df['Airline'])\n",
    "final_df['Source']=labelencoder.fit_transform(final_df['Source'])\n",
    "final_df['Destination']=labelencoder.fit_transform(final_df['Destination'])\n",
    "final_df['Additional_Info']=labelencoder.fit_transform(final_df['Additional_Info'])"
   ]
  },
  {
   "cell_type": "code",
   "execution_count": 56,
   "id": "940050fb",
   "metadata": {
    "execution": {
     "iopub.execute_input": "2022-07-06T11:14:36.553787Z",
     "iopub.status.busy": "2022-07-06T11:14:36.553092Z",
     "iopub.status.idle": "2022-07-06T11:14:36.558429Z",
     "shell.execute_reply": "2022-07-06T11:14:36.557692Z"
    },
    "papermill": {
     "duration": 0.025426,
     "end_time": "2022-07-06T11:14:36.560244",
     "exception": false,
     "start_time": "2022-07-06T11:14:36.534818",
     "status": "completed"
    },
    "tags": []
   },
   "outputs": [
    {
     "data": {
      "text/plain": [
       "(13350, 15)"
      ]
     },
     "execution_count": 56,
     "metadata": {},
     "output_type": "execute_result"
    }
   ],
   "source": [
    "final_df.shape"
   ]
  },
  {
   "cell_type": "code",
   "execution_count": 57,
   "id": "d1b82d62",
   "metadata": {
    "execution": {
     "iopub.execute_input": "2022-07-06T11:14:36.596786Z",
     "iopub.status.busy": "2022-07-06T11:14:36.596352Z",
     "iopub.status.idle": "2022-07-06T11:14:36.612010Z",
     "shell.execute_reply": "2022-07-06T11:14:36.610717Z"
    },
    "papermill": {
     "duration": 0.036488,
     "end_time": "2022-07-06T11:14:36.614262",
     "exception": false,
     "start_time": "2022-07-06T11:14:36.577774",
     "status": "completed"
    },
    "tags": []
   },
   "outputs": [],
   "source": [
    "df1 = pd.get_dummies(final_df,columns=['Airline','Source','Destination','Additional_Info'],drop_first=True)"
   ]
  },
  {
   "cell_type": "code",
   "execution_count": 58,
   "id": "06d17c58",
   "metadata": {
    "execution": {
     "iopub.execute_input": "2022-07-06T11:14:36.650531Z",
     "iopub.status.busy": "2022-07-06T11:14:36.649795Z",
     "iopub.status.idle": "2022-07-06T11:14:36.676108Z",
     "shell.execute_reply": "2022-07-06T11:14:36.674919Z"
    },
    "papermill": {
     "duration": 0.04707,
     "end_time": "2022-07-06T11:14:36.678502",
     "exception": false,
     "start_time": "2022-07-06T11:14:36.631432",
     "status": "completed"
    },
    "tags": []
   },
   "outputs": [
    {
     "data": {
      "text/html": [
       "<div>\n",
       "<style scoped>\n",
       "    .dataframe tbody tr th:only-of-type {\n",
       "        vertical-align: middle;\n",
       "    }\n",
       "\n",
       "    .dataframe tbody tr th {\n",
       "        vertical-align: top;\n",
       "    }\n",
       "\n",
       "    .dataframe thead th {\n",
       "        text-align: right;\n",
       "    }\n",
       "</style>\n",
       "<table border=\"1\" class=\"dataframe\">\n",
       "  <thead>\n",
       "    <tr style=\"text-align: right;\">\n",
       "      <th></th>\n",
       "      <th>Route</th>\n",
       "      <th>Duration</th>\n",
       "      <th>Total_Stops</th>\n",
       "      <th>Price</th>\n",
       "      <th>Date</th>\n",
       "      <th>Month</th>\n",
       "      <th>Year</th>\n",
       "      <th>Arrival_hour</th>\n",
       "      <th>Arrival_min</th>\n",
       "      <th>Departure_Hour</th>\n",
       "      <th>...</th>\n",
       "      <th>Destination_5</th>\n",
       "      <th>Additional_Info_1</th>\n",
       "      <th>Additional_Info_2</th>\n",
       "      <th>Additional_Info_3</th>\n",
       "      <th>Additional_Info_4</th>\n",
       "      <th>Additional_Info_5</th>\n",
       "      <th>Additional_Info_6</th>\n",
       "      <th>Additional_Info_7</th>\n",
       "      <th>Additional_Info_8</th>\n",
       "      <th>Additional_Info_9</th>\n",
       "    </tr>\n",
       "  </thead>\n",
       "  <tbody>\n",
       "    <tr>\n",
       "      <th>0</th>\n",
       "      <td>BLR → DEL</td>\n",
       "      <td>170</td>\n",
       "      <td>0.0</td>\n",
       "      <td>3897.0</td>\n",
       "      <td>24</td>\n",
       "      <td>3</td>\n",
       "      <td>2019</td>\n",
       "      <td>1</td>\n",
       "      <td>10</td>\n",
       "      <td>22</td>\n",
       "      <td>...</td>\n",
       "      <td>1</td>\n",
       "      <td>0</td>\n",
       "      <td>0</td>\n",
       "      <td>0</td>\n",
       "      <td>0</td>\n",
       "      <td>0</td>\n",
       "      <td>0</td>\n",
       "      <td>0</td>\n",
       "      <td>1</td>\n",
       "      <td>0</td>\n",
       "    </tr>\n",
       "    <tr>\n",
       "      <th>1</th>\n",
       "      <td>CCU → IXR → BBI → BLR</td>\n",
       "      <td>445</td>\n",
       "      <td>2.0</td>\n",
       "      <td>7662.0</td>\n",
       "      <td>1</td>\n",
       "      <td>5</td>\n",
       "      <td>2019</td>\n",
       "      <td>13</td>\n",
       "      <td>15</td>\n",
       "      <td>5</td>\n",
       "      <td>...</td>\n",
       "      <td>0</td>\n",
       "      <td>0</td>\n",
       "      <td>0</td>\n",
       "      <td>0</td>\n",
       "      <td>0</td>\n",
       "      <td>0</td>\n",
       "      <td>0</td>\n",
       "      <td>0</td>\n",
       "      <td>1</td>\n",
       "      <td>0</td>\n",
       "    </tr>\n",
       "    <tr>\n",
       "      <th>2</th>\n",
       "      <td>DEL → LKO → BOM → COK</td>\n",
       "      <td>1140</td>\n",
       "      <td>2.0</td>\n",
       "      <td>13882.0</td>\n",
       "      <td>9</td>\n",
       "      <td>6</td>\n",
       "      <td>2019</td>\n",
       "      <td>4</td>\n",
       "      <td>25</td>\n",
       "      <td>9</td>\n",
       "      <td>...</td>\n",
       "      <td>0</td>\n",
       "      <td>0</td>\n",
       "      <td>0</td>\n",
       "      <td>0</td>\n",
       "      <td>0</td>\n",
       "      <td>0</td>\n",
       "      <td>0</td>\n",
       "      <td>0</td>\n",
       "      <td>1</td>\n",
       "      <td>0</td>\n",
       "    </tr>\n",
       "    <tr>\n",
       "      <th>3</th>\n",
       "      <td>CCU → NAG → BLR</td>\n",
       "      <td>325</td>\n",
       "      <td>1.0</td>\n",
       "      <td>6218.0</td>\n",
       "      <td>12</td>\n",
       "      <td>5</td>\n",
       "      <td>2019</td>\n",
       "      <td>23</td>\n",
       "      <td>30</td>\n",
       "      <td>18</td>\n",
       "      <td>...</td>\n",
       "      <td>0</td>\n",
       "      <td>0</td>\n",
       "      <td>0</td>\n",
       "      <td>0</td>\n",
       "      <td>0</td>\n",
       "      <td>0</td>\n",
       "      <td>0</td>\n",
       "      <td>0</td>\n",
       "      <td>1</td>\n",
       "      <td>0</td>\n",
       "    </tr>\n",
       "    <tr>\n",
       "      <th>4</th>\n",
       "      <td>BLR → NAG → DEL</td>\n",
       "      <td>285</td>\n",
       "      <td>1.0</td>\n",
       "      <td>13302.0</td>\n",
       "      <td>1</td>\n",
       "      <td>3</td>\n",
       "      <td>2019</td>\n",
       "      <td>21</td>\n",
       "      <td>35</td>\n",
       "      <td>16</td>\n",
       "      <td>...</td>\n",
       "      <td>1</td>\n",
       "      <td>0</td>\n",
       "      <td>0</td>\n",
       "      <td>0</td>\n",
       "      <td>0</td>\n",
       "      <td>0</td>\n",
       "      <td>0</td>\n",
       "      <td>0</td>\n",
       "      <td>1</td>\n",
       "      <td>0</td>\n",
       "    </tr>\n",
       "    <tr>\n",
       "      <th>...</th>\n",
       "      <td>...</td>\n",
       "      <td>...</td>\n",
       "      <td>...</td>\n",
       "      <td>...</td>\n",
       "      <td>...</td>\n",
       "      <td>...</td>\n",
       "      <td>...</td>\n",
       "      <td>...</td>\n",
       "      <td>...</td>\n",
       "      <td>...</td>\n",
       "      <td>...</td>\n",
       "      <td>...</td>\n",
       "      <td>...</td>\n",
       "      <td>...</td>\n",
       "      <td>...</td>\n",
       "      <td>...</td>\n",
       "      <td>...</td>\n",
       "      <td>...</td>\n",
       "      <td>...</td>\n",
       "      <td>...</td>\n",
       "      <td>...</td>\n",
       "    </tr>\n",
       "    <tr>\n",
       "      <th>2666</th>\n",
       "      <td>CCU → DEL → BLR</td>\n",
       "      <td>1435</td>\n",
       "      <td>1.0</td>\n",
       "      <td>NaN</td>\n",
       "      <td>6</td>\n",
       "      <td>6</td>\n",
       "      <td>2019</td>\n",
       "      <td>20</td>\n",
       "      <td>25</td>\n",
       "      <td>20</td>\n",
       "      <td>...</td>\n",
       "      <td>0</td>\n",
       "      <td>0</td>\n",
       "      <td>0</td>\n",
       "      <td>0</td>\n",
       "      <td>0</td>\n",
       "      <td>0</td>\n",
       "      <td>0</td>\n",
       "      <td>0</td>\n",
       "      <td>1</td>\n",
       "      <td>0</td>\n",
       "    </tr>\n",
       "    <tr>\n",
       "      <th>2667</th>\n",
       "      <td>CCU → BLR</td>\n",
       "      <td>155</td>\n",
       "      <td>0.0</td>\n",
       "      <td>NaN</td>\n",
       "      <td>27</td>\n",
       "      <td>3</td>\n",
       "      <td>2019</td>\n",
       "      <td>16</td>\n",
       "      <td>55</td>\n",
       "      <td>14</td>\n",
       "      <td>...</td>\n",
       "      <td>0</td>\n",
       "      <td>0</td>\n",
       "      <td>0</td>\n",
       "      <td>0</td>\n",
       "      <td>0</td>\n",
       "      <td>0</td>\n",
       "      <td>0</td>\n",
       "      <td>0</td>\n",
       "      <td>1</td>\n",
       "      <td>0</td>\n",
       "    </tr>\n",
       "    <tr>\n",
       "      <th>2668</th>\n",
       "      <td>DEL → BOM → COK</td>\n",
       "      <td>395</td>\n",
       "      <td>1.0</td>\n",
       "      <td>NaN</td>\n",
       "      <td>6</td>\n",
       "      <td>3</td>\n",
       "      <td>2019</td>\n",
       "      <td>4</td>\n",
       "      <td>25</td>\n",
       "      <td>21</td>\n",
       "      <td>...</td>\n",
       "      <td>0</td>\n",
       "      <td>0</td>\n",
       "      <td>0</td>\n",
       "      <td>0</td>\n",
       "      <td>0</td>\n",
       "      <td>0</td>\n",
       "      <td>0</td>\n",
       "      <td>0</td>\n",
       "      <td>1</td>\n",
       "      <td>0</td>\n",
       "    </tr>\n",
       "    <tr>\n",
       "      <th>2669</th>\n",
       "      <td>DEL → BOM → COK</td>\n",
       "      <td>915</td>\n",
       "      <td>1.0</td>\n",
       "      <td>NaN</td>\n",
       "      <td>6</td>\n",
       "      <td>3</td>\n",
       "      <td>2019</td>\n",
       "      <td>19</td>\n",
       "      <td>15</td>\n",
       "      <td>4</td>\n",
       "      <td>...</td>\n",
       "      <td>0</td>\n",
       "      <td>0</td>\n",
       "      <td>0</td>\n",
       "      <td>0</td>\n",
       "      <td>0</td>\n",
       "      <td>0</td>\n",
       "      <td>0</td>\n",
       "      <td>0</td>\n",
       "      <td>1</td>\n",
       "      <td>0</td>\n",
       "    </tr>\n",
       "    <tr>\n",
       "      <th>2670</th>\n",
       "      <td>DEL → BOM → COK</td>\n",
       "      <td>860</td>\n",
       "      <td>1.0</td>\n",
       "      <td>NaN</td>\n",
       "      <td>15</td>\n",
       "      <td>6</td>\n",
       "      <td>2019</td>\n",
       "      <td>19</td>\n",
       "      <td>15</td>\n",
       "      <td>4</td>\n",
       "      <td>...</td>\n",
       "      <td>0</td>\n",
       "      <td>0</td>\n",
       "      <td>0</td>\n",
       "      <td>0</td>\n",
       "      <td>0</td>\n",
       "      <td>0</td>\n",
       "      <td>0</td>\n",
       "      <td>0</td>\n",
       "      <td>1</td>\n",
       "      <td>0</td>\n",
       "    </tr>\n",
       "  </tbody>\n",
       "</table>\n",
       "<p>13350 rows × 40 columns</p>\n",
       "</div>"
      ],
      "text/plain": [
       "                      Route  Duration  Total_Stops    Price  Date  Month  \\\n",
       "0                 BLR → DEL       170          0.0   3897.0    24      3   \n",
       "1     CCU → IXR → BBI → BLR       445          2.0   7662.0     1      5   \n",
       "2     DEL → LKO → BOM → COK      1140          2.0  13882.0     9      6   \n",
       "3           CCU → NAG → BLR       325          1.0   6218.0    12      5   \n",
       "4           BLR → NAG → DEL       285          1.0  13302.0     1      3   \n",
       "...                     ...       ...          ...      ...   ...    ...   \n",
       "2666        CCU → DEL → BLR      1435          1.0      NaN     6      6   \n",
       "2667              CCU → BLR       155          0.0      NaN    27      3   \n",
       "2668        DEL → BOM → COK       395          1.0      NaN     6      3   \n",
       "2669        DEL → BOM → COK       915          1.0      NaN     6      3   \n",
       "2670        DEL → BOM → COK       860          1.0      NaN    15      6   \n",
       "\n",
       "      Year  Arrival_hour  Arrival_min  Departure_Hour  ...  Destination_5  \\\n",
       "0     2019             1           10              22  ...              1   \n",
       "1     2019            13           15               5  ...              0   \n",
       "2     2019             4           25               9  ...              0   \n",
       "3     2019            23           30              18  ...              0   \n",
       "4     2019            21           35              16  ...              1   \n",
       "...    ...           ...          ...             ...  ...            ...   \n",
       "2666  2019            20           25              20  ...              0   \n",
       "2667  2019            16           55              14  ...              0   \n",
       "2668  2019             4           25              21  ...              0   \n",
       "2669  2019            19           15               4  ...              0   \n",
       "2670  2019            19           15               4  ...              0   \n",
       "\n",
       "      Additional_Info_1  Additional_Info_2  Additional_Info_3  \\\n",
       "0                     0                  0                  0   \n",
       "1                     0                  0                  0   \n",
       "2                     0                  0                  0   \n",
       "3                     0                  0                  0   \n",
       "4                     0                  0                  0   \n",
       "...                 ...                ...                ...   \n",
       "2666                  0                  0                  0   \n",
       "2667                  0                  0                  0   \n",
       "2668                  0                  0                  0   \n",
       "2669                  0                  0                  0   \n",
       "2670                  0                  0                  0   \n",
       "\n",
       "      Additional_Info_4  Additional_Info_5  Additional_Info_6  \\\n",
       "0                     0                  0                  0   \n",
       "1                     0                  0                  0   \n",
       "2                     0                  0                  0   \n",
       "3                     0                  0                  0   \n",
       "4                     0                  0                  0   \n",
       "...                 ...                ...                ...   \n",
       "2666                  0                  0                  0   \n",
       "2667                  0                  0                  0   \n",
       "2668                  0                  0                  0   \n",
       "2669                  0                  0                  0   \n",
       "2670                  0                  0                  0   \n",
       "\n",
       "      Additional_Info_7  Additional_Info_8  Additional_Info_9  \n",
       "0                     0                  1                  0  \n",
       "1                     0                  1                  0  \n",
       "2                     0                  1                  0  \n",
       "3                     0                  1                  0  \n",
       "4                     0                  1                  0  \n",
       "...                 ...                ...                ...  \n",
       "2666                  0                  1                  0  \n",
       "2667                  0                  1                  0  \n",
       "2668                  0                  1                  0  \n",
       "2669                  0                  1                  0  \n",
       "2670                  0                  1                  0  \n",
       "\n",
       "[13350 rows x 40 columns]"
      ]
     },
     "execution_count": 58,
     "metadata": {},
     "output_type": "execute_result"
    }
   ],
   "source": [
    "df1"
   ]
  }
 ],
 "metadata": {
  "kernelspec": {
   "display_name": "Python 3",
   "language": "python",
   "name": "python3"
  },
  "language_info": {
   "codemirror_mode": {
    "name": "ipython",
    "version": 3
   },
   "file_extension": ".py",
   "mimetype": "text/x-python",
   "name": "python",
   "nbconvert_exporter": "python",
   "pygments_lexer": "ipython3",
   "version": "3.7.12"
  },
  "papermill": {
   "default_parameters": {},
   "duration": 27.903344,
   "end_time": "2022-07-06T11:14:37.417413",
   "environment_variables": {},
   "exception": null,
   "input_path": "__notebook__.ipynb",
   "output_path": "__notebook__.ipynb",
   "parameters": {},
   "start_time": "2022-07-06T11:14:09.514069",
   "version": "2.3.4"
  }
 },
 "nbformat": 4,
 "nbformat_minor": 5
}
